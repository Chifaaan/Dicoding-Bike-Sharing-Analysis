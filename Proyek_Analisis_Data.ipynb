{
  "cells": [
    {
      "cell_type": "markdown",
      "metadata": {
        "id": "H9wADwK78DCz"
      },
      "source": [
        "# Proyek Analisis Data: [Bike Sharing Dataset]\n",
        "- **Nama:** Muhammad Nur Irfan\n",
        "- **Email:** itzirfanmt@gmail.com\n",
        "- **ID Dicoding:** Muhammad Nur Irfan"
      ]
    },
    {
      "cell_type": "markdown",
      "metadata": {
        "id": "eE0raob58DC0"
      },
      "source": [
        "## Menentukan Pertanyaan Bisnis"
      ]
    },
    {
      "cell_type": "markdown",
      "metadata": {
        "id": "GmQeQ5YF8DC0"
      },
      "source": [
        "- Bagaimana perkembangan penyewaan sepeda tiap tahun ?\n",
        "- Bagaimana perbedaan user yang tidak terdaftar dan user yang terdaftar pada penyewaan sepeda ?\n",
        "- Pada musim apakah penyewaan sepeda mencapai puncaknya ?\n",
        "- Pada hari apakah penyewaan sepeda mencapai puncaknya ?\n",
        "- Apakah dengan adanya Liburan meningkatkan penyewaan sepeda ?\n",
        "- Apakah cuaca mempengaruhi jumlah penyewaan sepeda ?\n"
      ]
    },
    {
      "cell_type": "markdown",
      "metadata": {
        "id": "H-z4QGlO8DC1"
      },
      "source": [
        "## Import Semua Packages/Library yang Digunakan"
      ]
    },
    {
      "cell_type": "code",
      "execution_count": 45,
      "metadata": {
        "id": "FVYwaObI8DC1"
      },
      "outputs": [],
      "source": [
        "import numpy as np\n",
        "import pandas as pd\n",
        "import matplotlib.pyplot as plt\n",
        "import seaborn as sns"
      ]
    },
    {
      "cell_type": "markdown",
      "metadata": {
        "id": "h_Sh51Xy8DC1"
      },
      "source": [
        "## Data Wrangling"
      ]
    },
    {
      "cell_type": "markdown",
      "metadata": {
        "id": "sXU2GBYu8DC1"
      },
      "source": [
        "### Gathering Data"
      ]
    },
    {
      "cell_type": "code",
      "execution_count": 46,
      "metadata": {
        "id": "zjCBk1BI8DC1"
      },
      "outputs": [
        {
          "data": {
            "application/vnd.microsoft.datawrangler.viewer.v0+json": {
              "columns": [
                {
                  "name": "index",
                  "rawType": "int64",
                  "type": "integer"
                },
                {
                  "name": "instant",
                  "rawType": "int64",
                  "type": "integer"
                },
                {
                  "name": "dteday",
                  "rawType": "object",
                  "type": "string"
                },
                {
                  "name": "season",
                  "rawType": "int64",
                  "type": "integer"
                },
                {
                  "name": "yr",
                  "rawType": "int64",
                  "type": "integer"
                },
                {
                  "name": "mnth",
                  "rawType": "int64",
                  "type": "integer"
                },
                {
                  "name": "holiday",
                  "rawType": "int64",
                  "type": "integer"
                },
                {
                  "name": "weekday",
                  "rawType": "int64",
                  "type": "integer"
                },
                {
                  "name": "workingday",
                  "rawType": "int64",
                  "type": "integer"
                },
                {
                  "name": "weathersit",
                  "rawType": "int64",
                  "type": "integer"
                },
                {
                  "name": "temp",
                  "rawType": "float64",
                  "type": "float"
                },
                {
                  "name": "atemp",
                  "rawType": "float64",
                  "type": "float"
                },
                {
                  "name": "hum",
                  "rawType": "float64",
                  "type": "float"
                },
                {
                  "name": "windspeed",
                  "rawType": "float64",
                  "type": "float"
                },
                {
                  "name": "casual",
                  "rawType": "int64",
                  "type": "integer"
                },
                {
                  "name": "registered",
                  "rawType": "int64",
                  "type": "integer"
                },
                {
                  "name": "cnt",
                  "rawType": "int64",
                  "type": "integer"
                }
              ],
              "conversionMethod": "pd.DataFrame",
              "ref": "c604f070-a3e9-4fe3-8716-d3a02e1ed09d",
              "rows": [
                [
                  "0",
                  "1",
                  "2011-01-01",
                  "1",
                  "0",
                  "1",
                  "0",
                  "6",
                  "0",
                  "2",
                  "0.344167",
                  "0.363625",
                  "0.805833",
                  "0.160446",
                  "331",
                  "654",
                  "985"
                ],
                [
                  "1",
                  "2",
                  "2011-01-02",
                  "1",
                  "0",
                  "1",
                  "0",
                  "0",
                  "0",
                  "2",
                  "0.363478",
                  "0.353739",
                  "0.696087",
                  "0.248539",
                  "131",
                  "670",
                  "801"
                ],
                [
                  "2",
                  "3",
                  "2011-01-03",
                  "1",
                  "0",
                  "1",
                  "0",
                  "1",
                  "1",
                  "1",
                  "0.196364",
                  "0.189405",
                  "0.437273",
                  "0.248309",
                  "120",
                  "1229",
                  "1349"
                ],
                [
                  "3",
                  "4",
                  "2011-01-04",
                  "1",
                  "0",
                  "1",
                  "0",
                  "2",
                  "1",
                  "1",
                  "0.2",
                  "0.212122",
                  "0.590435",
                  "0.160296",
                  "108",
                  "1454",
                  "1562"
                ],
                [
                  "4",
                  "5",
                  "2011-01-05",
                  "1",
                  "0",
                  "1",
                  "0",
                  "3",
                  "1",
                  "1",
                  "0.226957",
                  "0.22927",
                  "0.436957",
                  "0.1869",
                  "82",
                  "1518",
                  "1600"
                ]
              ],
              "shape": {
                "columns": 16,
                "rows": 5
              }
            },
            "text/html": [
              "<div>\n",
              "<style scoped>\n",
              "    .dataframe tbody tr th:only-of-type {\n",
              "        vertical-align: middle;\n",
              "    }\n",
              "\n",
              "    .dataframe tbody tr th {\n",
              "        vertical-align: top;\n",
              "    }\n",
              "\n",
              "    .dataframe thead th {\n",
              "        text-align: right;\n",
              "    }\n",
              "</style>\n",
              "<table border=\"1\" class=\"dataframe\">\n",
              "  <thead>\n",
              "    <tr style=\"text-align: right;\">\n",
              "      <th></th>\n",
              "      <th>instant</th>\n",
              "      <th>dteday</th>\n",
              "      <th>season</th>\n",
              "      <th>yr</th>\n",
              "      <th>mnth</th>\n",
              "      <th>holiday</th>\n",
              "      <th>weekday</th>\n",
              "      <th>workingday</th>\n",
              "      <th>weathersit</th>\n",
              "      <th>temp</th>\n",
              "      <th>atemp</th>\n",
              "      <th>hum</th>\n",
              "      <th>windspeed</th>\n",
              "      <th>casual</th>\n",
              "      <th>registered</th>\n",
              "      <th>cnt</th>\n",
              "    </tr>\n",
              "  </thead>\n",
              "  <tbody>\n",
              "    <tr>\n",
              "      <th>0</th>\n",
              "      <td>1</td>\n",
              "      <td>2011-01-01</td>\n",
              "      <td>1</td>\n",
              "      <td>0</td>\n",
              "      <td>1</td>\n",
              "      <td>0</td>\n",
              "      <td>6</td>\n",
              "      <td>0</td>\n",
              "      <td>2</td>\n",
              "      <td>0.344167</td>\n",
              "      <td>0.363625</td>\n",
              "      <td>0.805833</td>\n",
              "      <td>0.160446</td>\n",
              "      <td>331</td>\n",
              "      <td>654</td>\n",
              "      <td>985</td>\n",
              "    </tr>\n",
              "    <tr>\n",
              "      <th>1</th>\n",
              "      <td>2</td>\n",
              "      <td>2011-01-02</td>\n",
              "      <td>1</td>\n",
              "      <td>0</td>\n",
              "      <td>1</td>\n",
              "      <td>0</td>\n",
              "      <td>0</td>\n",
              "      <td>0</td>\n",
              "      <td>2</td>\n",
              "      <td>0.363478</td>\n",
              "      <td>0.353739</td>\n",
              "      <td>0.696087</td>\n",
              "      <td>0.248539</td>\n",
              "      <td>131</td>\n",
              "      <td>670</td>\n",
              "      <td>801</td>\n",
              "    </tr>\n",
              "    <tr>\n",
              "      <th>2</th>\n",
              "      <td>3</td>\n",
              "      <td>2011-01-03</td>\n",
              "      <td>1</td>\n",
              "      <td>0</td>\n",
              "      <td>1</td>\n",
              "      <td>0</td>\n",
              "      <td>1</td>\n",
              "      <td>1</td>\n",
              "      <td>1</td>\n",
              "      <td>0.196364</td>\n",
              "      <td>0.189405</td>\n",
              "      <td>0.437273</td>\n",
              "      <td>0.248309</td>\n",
              "      <td>120</td>\n",
              "      <td>1229</td>\n",
              "      <td>1349</td>\n",
              "    </tr>\n",
              "    <tr>\n",
              "      <th>3</th>\n",
              "      <td>4</td>\n",
              "      <td>2011-01-04</td>\n",
              "      <td>1</td>\n",
              "      <td>0</td>\n",
              "      <td>1</td>\n",
              "      <td>0</td>\n",
              "      <td>2</td>\n",
              "      <td>1</td>\n",
              "      <td>1</td>\n",
              "      <td>0.200000</td>\n",
              "      <td>0.212122</td>\n",
              "      <td>0.590435</td>\n",
              "      <td>0.160296</td>\n",
              "      <td>108</td>\n",
              "      <td>1454</td>\n",
              "      <td>1562</td>\n",
              "    </tr>\n",
              "    <tr>\n",
              "      <th>4</th>\n",
              "      <td>5</td>\n",
              "      <td>2011-01-05</td>\n",
              "      <td>1</td>\n",
              "      <td>0</td>\n",
              "      <td>1</td>\n",
              "      <td>0</td>\n",
              "      <td>3</td>\n",
              "      <td>1</td>\n",
              "      <td>1</td>\n",
              "      <td>0.226957</td>\n",
              "      <td>0.229270</td>\n",
              "      <td>0.436957</td>\n",
              "      <td>0.186900</td>\n",
              "      <td>82</td>\n",
              "      <td>1518</td>\n",
              "      <td>1600</td>\n",
              "    </tr>\n",
              "  </tbody>\n",
              "</table>\n",
              "</div>"
            ],
            "text/plain": [
              "   instant      dteday  season  yr  mnth  holiday  weekday  workingday  \\\n",
              "0        1  2011-01-01       1   0     1        0        6           0   \n",
              "1        2  2011-01-02       1   0     1        0        0           0   \n",
              "2        3  2011-01-03       1   0     1        0        1           1   \n",
              "3        4  2011-01-04       1   0     1        0        2           1   \n",
              "4        5  2011-01-05       1   0     1        0        3           1   \n",
              "\n",
              "   weathersit      temp     atemp       hum  windspeed  casual  registered  \\\n",
              "0           2  0.344167  0.363625  0.805833   0.160446     331         654   \n",
              "1           2  0.363478  0.353739  0.696087   0.248539     131         670   \n",
              "2           1  0.196364  0.189405  0.437273   0.248309     120        1229   \n",
              "3           1  0.200000  0.212122  0.590435   0.160296     108        1454   \n",
              "4           1  0.226957  0.229270  0.436957   0.186900      82        1518   \n",
              "\n",
              "    cnt  \n",
              "0   985  \n",
              "1   801  \n",
              "2  1349  \n",
              "3  1562  \n",
              "4  1600  "
            ]
          },
          "execution_count": 46,
          "metadata": {},
          "output_type": "execute_result"
        }
      ],
      "source": [
        "df = pd.read_csv(\"./Data/day.csv\")\n",
        "df.head()"
      ]
    },
    {
      "cell_type": "markdown",
      "metadata": {
        "id": "MMi6xGaDkbCi"
      },
      "source": [
        "**Dataset Charateristics based from Readme Txt:**\n",
        "- instant: record index\n",
        "- dteday : date\n",
        "- season : season (1:springer, 2:summer, 3:fall, 4:winter)\n",
        "- yr : year (0: 2011, 1:2012)\n",
        "- mnth : month ( 1 to 12)\n",
        "- hr : hour (0 to 23)\n",
        "- holiday : weather day is holiday or not (extracted from http://dchr.dc.gov/page/holiday-schedule)\n",
        "- weekday : day of the week\n",
        "- workingday : if day is neither weekend nor holiday is 1, otherwise is 0.\n",
        "+ weathersit : \n",
        "- 1: Clear, Few clouds, Partly cloudy, Partly cloudy\n",
        "- 2: Mist + Cloudy, Mist + Broken clouds, Mist + Few clouds, Mist\n",
        "- 3: Light Snow, Light Rain + Thunderstorm + Scattered clouds, Light Rain + Scattered clouds\n",
        "- 4: Heavy Rain + Ice Pallets + Thunderstorm + Mist, Snow + Fog\n",
        "- temp : Normalized temperature in Celsius. The values are divided to 41 (max)\n",
        "- atemp: Normalized feeling temperature in Celsius. The values are divided to 50 (max)\n",
        "- hum: Normalized humidity. The values are divided to 100 (max)\n",
        "- windspeed: Normalized wind speed. The values are divided to 67 (max)\n",
        "- casual: count of casual users\n",
        "- registered: count of registered users\n",
        "- cnt: count of total rental bikes including both casual and registered"
      ]
    },
    {
      "cell_type": "markdown",
      "metadata": {
        "id": "FHSiqaZp8DC1"
      },
      "source": [
        "### Assessing Data"
      ]
    },
    {
      "cell_type": "markdown",
      "metadata": {},
      "source": [
        "#### **A. Mengidentifikasi Missing Values**"
      ]
    },
    {
      "cell_type": "code",
      "execution_count": 47,
      "metadata": {
        "id": "ax-3tEjc9Cj1"
      },
      "outputs": [
        {
          "data": {
            "text/plain": [
              "instant       0\n",
              "dteday        0\n",
              "season        0\n",
              "yr            0\n",
              "mnth          0\n",
              "holiday       0\n",
              "weekday       0\n",
              "workingday    0\n",
              "weathersit    0\n",
              "temp          0\n",
              "atemp         0\n",
              "hum           0\n",
              "windspeed     0\n",
              "casual        0\n",
              "registered    0\n",
              "cnt           0\n",
              "dtype: int64"
            ]
          },
          "execution_count": 47,
          "metadata": {},
          "output_type": "execute_result"
        }
      ],
      "source": [
        "df.isnull().sum()"
      ]
    },
    {
      "cell_type": "markdown",
      "metadata": {},
      "source": [
        "Berdasarkan Informasi fungsi isnull() berikut, dataset ini tidak memiliki Missing Value sama sekali"
      ]
    },
    {
      "cell_type": "markdown",
      "metadata": {},
      "source": [
        "#### **B. Mengidentifikasi Duplikasi Data**"
      ]
    },
    {
      "cell_type": "code",
      "execution_count": 48,
      "metadata": {},
      "outputs": [
        {
          "data": {
            "text/plain": [
              "np.int64(0)"
            ]
          },
          "execution_count": 48,
          "metadata": {},
          "output_type": "execute_result"
        }
      ],
      "source": [
        "df.duplicated().sum()"
      ]
    },
    {
      "cell_type": "markdown",
      "metadata": {},
      "source": [
        "Berdasrakan informasi fungsi duplicated() berikut, dataset ini tidak memiliki data yang duplikat "
      ]
    },
    {
      "cell_type": "markdown",
      "metadata": {},
      "source": [
        "#### **C. Mengidentifikasi Struktur Data**"
      ]
    },
    {
      "cell_type": "code",
      "execution_count": 49,
      "metadata": {},
      "outputs": [
        {
          "name": "stdout",
          "output_type": "stream",
          "text": [
            "<class 'pandas.core.frame.DataFrame'>\n",
            "RangeIndex: 731 entries, 0 to 730\n",
            "Data columns (total 16 columns):\n",
            " #   Column      Non-Null Count  Dtype  \n",
            "---  ------      --------------  -----  \n",
            " 0   instant     731 non-null    int64  \n",
            " 1   dteday      731 non-null    object \n",
            " 2   season      731 non-null    int64  \n",
            " 3   yr          731 non-null    int64  \n",
            " 4   mnth        731 non-null    int64  \n",
            " 5   holiday     731 non-null    int64  \n",
            " 6   weekday     731 non-null    int64  \n",
            " 7   workingday  731 non-null    int64  \n",
            " 8   weathersit  731 non-null    int64  \n",
            " 9   temp        731 non-null    float64\n",
            " 10  atemp       731 non-null    float64\n",
            " 11  hum         731 non-null    float64\n",
            " 12  windspeed   731 non-null    float64\n",
            " 13  casual      731 non-null    int64  \n",
            " 14  registered  731 non-null    int64  \n",
            " 15  cnt         731 non-null    int64  \n",
            "dtypes: float64(4), int64(11), object(1)\n",
            "memory usage: 91.5+ KB\n"
          ]
        }
      ],
      "source": [
        "df.info()"
      ]
    },
    {
      "cell_type": "markdown",
      "metadata": {},
      "source": [
        "Berdsarkan informasi fungsi info() berikut, ada beberapa hal yang bisa diperhatikan:\n",
        "\n",
        "**Perubahan nama kolom**\n",
        "perubahan nama kolom dapat dilakukan untuk mempermudah interpretasi data\n",
        "- `dteday` -> `date`\n",
        "- `yr` -> `year`\n",
        "- `mnth` -> `month`\n",
        "- `hum` -> `humidity`\n",
        "- `cnt` -> `total`\n",
        "\n",
        "**Perubahan tipe data**\n",
        "- tipe data `date` dapat diubah ke **datetime**\n",
        "- tipe data `season` dapat diubah ke **category**\n",
        "- tipe data `holiday` dapat diubah ke **category**\n",
        "- tipe data `workingday` dapat diubah ke **category**\n",
        "- tipe data `weathersit` dapat diubah ke **category**\n",
        "\n",
        "**Perubahan nilai data**\\\n",
        "- kolom `temp`, `atemp`, `hum`, `windspeed` merupakan data yang sudah dinormalisasi, untuk memahami data lebih baik saya akan mengembalikan data menjadi data semula\n",
        "- kolom `weekday`, `month`, `year` dapat diubah sesuai dengan date"
      ]
    },
    {
      "cell_type": "markdown",
      "metadata": {},
      "source": [
        "#### **D. Identifikasi Statistik Dataset**"
      ]
    },
    {
      "cell_type": "code",
      "execution_count": 50,
      "metadata": {},
      "outputs": [
        {
          "data": {
            "application/vnd.microsoft.datawrangler.viewer.v0+json": {
              "columns": [
                {
                  "name": "index",
                  "rawType": "object",
                  "type": "string"
                },
                {
                  "name": "instant",
                  "rawType": "float64",
                  "type": "float"
                },
                {
                  "name": "dteday",
                  "rawType": "object",
                  "type": "unknown"
                },
                {
                  "name": "season",
                  "rawType": "float64",
                  "type": "float"
                },
                {
                  "name": "yr",
                  "rawType": "float64",
                  "type": "float"
                },
                {
                  "name": "mnth",
                  "rawType": "float64",
                  "type": "float"
                },
                {
                  "name": "holiday",
                  "rawType": "float64",
                  "type": "float"
                },
                {
                  "name": "weekday",
                  "rawType": "float64",
                  "type": "float"
                },
                {
                  "name": "workingday",
                  "rawType": "float64",
                  "type": "float"
                },
                {
                  "name": "weathersit",
                  "rawType": "float64",
                  "type": "float"
                },
                {
                  "name": "temp",
                  "rawType": "float64",
                  "type": "float"
                },
                {
                  "name": "atemp",
                  "rawType": "float64",
                  "type": "float"
                },
                {
                  "name": "hum",
                  "rawType": "float64",
                  "type": "float"
                },
                {
                  "name": "windspeed",
                  "rawType": "float64",
                  "type": "float"
                },
                {
                  "name": "casual",
                  "rawType": "float64",
                  "type": "float"
                },
                {
                  "name": "registered",
                  "rawType": "float64",
                  "type": "float"
                },
                {
                  "name": "cnt",
                  "rawType": "float64",
                  "type": "float"
                }
              ],
              "conversionMethod": "pd.DataFrame",
              "ref": "ac7465e8-1d92-4a41-b0ca-85bb05b96ab4",
              "rows": [
                [
                  "count",
                  "731.0",
                  "731",
                  "731.0",
                  "731.0",
                  "731.0",
                  "731.0",
                  "731.0",
                  "731.0",
                  "731.0",
                  "731.0",
                  "731.0",
                  "731.0",
                  "731.0",
                  "731.0",
                  "731.0",
                  "731.0"
                ],
                [
                  "unique",
                  null,
                  "731",
                  null,
                  null,
                  null,
                  null,
                  null,
                  null,
                  null,
                  null,
                  null,
                  null,
                  null,
                  null,
                  null,
                  null
                ],
                [
                  "top",
                  null,
                  "2011-01-01",
                  null,
                  null,
                  null,
                  null,
                  null,
                  null,
                  null,
                  null,
                  null,
                  null,
                  null,
                  null,
                  null,
                  null
                ],
                [
                  "freq",
                  null,
                  "1",
                  null,
                  null,
                  null,
                  null,
                  null,
                  null,
                  null,
                  null,
                  null,
                  null,
                  null,
                  null,
                  null,
                  null
                ],
                [
                  "mean",
                  "366.0",
                  null,
                  "2.496580027359781",
                  "0.5006839945280438",
                  "6.519835841313269",
                  "0.028727770177838577",
                  "2.997264021887825",
                  "0.6839945280437757",
                  "1.3953488372093024",
                  "0.495384788508892",
                  "0.47435398864569084",
                  "0.6278940629274967",
                  "0.190486211627907",
                  "848.1764705882352",
                  "3656.172366621067",
                  "4504.3488372093025"
                ],
                [
                  "std",
                  "211.16581162678773",
                  null,
                  "1.1108070927726255",
                  "0.5003418803818264",
                  "3.4519127872562527",
                  "0.16715474262247382",
                  "2.0047869179444824",
                  "0.4652333866777036",
                  "0.5448943419593665",
                  "0.18305099611148878",
                  "0.1629611783863113",
                  "0.14242909513835394",
                  "0.07749787068166941",
                  "686.622488284655",
                  "1560.2563770194536",
                  "1937.2114516187676"
                ],
                [
                  "min",
                  "1.0",
                  null,
                  "1.0",
                  "0.0",
                  "1.0",
                  "0.0",
                  "0.0",
                  "0.0",
                  "1.0",
                  "0.0591304",
                  "0.0790696",
                  "0.0",
                  "0.0223917",
                  "2.0",
                  "20.0",
                  "22.0"
                ],
                [
                  "25%",
                  "183.5",
                  null,
                  "2.0",
                  "0.0",
                  "4.0",
                  "0.0",
                  "1.0",
                  "0.0",
                  "1.0",
                  "0.3370835",
                  "0.3378425",
                  "0.52",
                  "0.13495",
                  "315.5",
                  "2497.0",
                  "3152.0"
                ],
                [
                  "50%",
                  "366.0",
                  null,
                  "3.0",
                  "1.0",
                  "7.0",
                  "0.0",
                  "3.0",
                  "1.0",
                  "1.0",
                  "0.498333",
                  "0.486733",
                  "0.626667",
                  "0.180975",
                  "713.0",
                  "3662.0",
                  "4548.0"
                ],
                [
                  "75%",
                  "548.5",
                  null,
                  "3.0",
                  "1.0",
                  "10.0",
                  "0.0",
                  "5.0",
                  "1.0",
                  "2.0",
                  "0.6554165000000001",
                  "0.6086020000000001",
                  "0.7302085",
                  "0.2332145",
                  "1096.0",
                  "4776.5",
                  "5956.0"
                ],
                [
                  "max",
                  "731.0",
                  null,
                  "4.0",
                  "1.0",
                  "12.0",
                  "1.0",
                  "6.0",
                  "1.0",
                  "3.0",
                  "0.861667",
                  "0.840896",
                  "0.9725",
                  "0.507463",
                  "3410.0",
                  "6946.0",
                  "8714.0"
                ]
              ],
              "shape": {
                "columns": 16,
                "rows": 11
              }
            },
            "text/html": [
              "<div>\n",
              "<style scoped>\n",
              "    .dataframe tbody tr th:only-of-type {\n",
              "        vertical-align: middle;\n",
              "    }\n",
              "\n",
              "    .dataframe tbody tr th {\n",
              "        vertical-align: top;\n",
              "    }\n",
              "\n",
              "    .dataframe thead th {\n",
              "        text-align: right;\n",
              "    }\n",
              "</style>\n",
              "<table border=\"1\" class=\"dataframe\">\n",
              "  <thead>\n",
              "    <tr style=\"text-align: right;\">\n",
              "      <th></th>\n",
              "      <th>instant</th>\n",
              "      <th>dteday</th>\n",
              "      <th>season</th>\n",
              "      <th>yr</th>\n",
              "      <th>mnth</th>\n",
              "      <th>holiday</th>\n",
              "      <th>weekday</th>\n",
              "      <th>workingday</th>\n",
              "      <th>weathersit</th>\n",
              "      <th>temp</th>\n",
              "      <th>atemp</th>\n",
              "      <th>hum</th>\n",
              "      <th>windspeed</th>\n",
              "      <th>casual</th>\n",
              "      <th>registered</th>\n",
              "      <th>cnt</th>\n",
              "    </tr>\n",
              "  </thead>\n",
              "  <tbody>\n",
              "    <tr>\n",
              "      <th>count</th>\n",
              "      <td>731.000000</td>\n",
              "      <td>731</td>\n",
              "      <td>731.000000</td>\n",
              "      <td>731.000000</td>\n",
              "      <td>731.000000</td>\n",
              "      <td>731.000000</td>\n",
              "      <td>731.000000</td>\n",
              "      <td>731.000000</td>\n",
              "      <td>731.000000</td>\n",
              "      <td>731.000000</td>\n",
              "      <td>731.000000</td>\n",
              "      <td>731.000000</td>\n",
              "      <td>731.000000</td>\n",
              "      <td>731.000000</td>\n",
              "      <td>731.000000</td>\n",
              "      <td>731.000000</td>\n",
              "    </tr>\n",
              "    <tr>\n",
              "      <th>unique</th>\n",
              "      <td>NaN</td>\n",
              "      <td>731</td>\n",
              "      <td>NaN</td>\n",
              "      <td>NaN</td>\n",
              "      <td>NaN</td>\n",
              "      <td>NaN</td>\n",
              "      <td>NaN</td>\n",
              "      <td>NaN</td>\n",
              "      <td>NaN</td>\n",
              "      <td>NaN</td>\n",
              "      <td>NaN</td>\n",
              "      <td>NaN</td>\n",
              "      <td>NaN</td>\n",
              "      <td>NaN</td>\n",
              "      <td>NaN</td>\n",
              "      <td>NaN</td>\n",
              "    </tr>\n",
              "    <tr>\n",
              "      <th>top</th>\n",
              "      <td>NaN</td>\n",
              "      <td>2011-01-01</td>\n",
              "      <td>NaN</td>\n",
              "      <td>NaN</td>\n",
              "      <td>NaN</td>\n",
              "      <td>NaN</td>\n",
              "      <td>NaN</td>\n",
              "      <td>NaN</td>\n",
              "      <td>NaN</td>\n",
              "      <td>NaN</td>\n",
              "      <td>NaN</td>\n",
              "      <td>NaN</td>\n",
              "      <td>NaN</td>\n",
              "      <td>NaN</td>\n",
              "      <td>NaN</td>\n",
              "      <td>NaN</td>\n",
              "    </tr>\n",
              "    <tr>\n",
              "      <th>freq</th>\n",
              "      <td>NaN</td>\n",
              "      <td>1</td>\n",
              "      <td>NaN</td>\n",
              "      <td>NaN</td>\n",
              "      <td>NaN</td>\n",
              "      <td>NaN</td>\n",
              "      <td>NaN</td>\n",
              "      <td>NaN</td>\n",
              "      <td>NaN</td>\n",
              "      <td>NaN</td>\n",
              "      <td>NaN</td>\n",
              "      <td>NaN</td>\n",
              "      <td>NaN</td>\n",
              "      <td>NaN</td>\n",
              "      <td>NaN</td>\n",
              "      <td>NaN</td>\n",
              "    </tr>\n",
              "    <tr>\n",
              "      <th>mean</th>\n",
              "      <td>366.000000</td>\n",
              "      <td>NaN</td>\n",
              "      <td>2.496580</td>\n",
              "      <td>0.500684</td>\n",
              "      <td>6.519836</td>\n",
              "      <td>0.028728</td>\n",
              "      <td>2.997264</td>\n",
              "      <td>0.683995</td>\n",
              "      <td>1.395349</td>\n",
              "      <td>0.495385</td>\n",
              "      <td>0.474354</td>\n",
              "      <td>0.627894</td>\n",
              "      <td>0.190486</td>\n",
              "      <td>848.176471</td>\n",
              "      <td>3656.172367</td>\n",
              "      <td>4504.348837</td>\n",
              "    </tr>\n",
              "    <tr>\n",
              "      <th>std</th>\n",
              "      <td>211.165812</td>\n",
              "      <td>NaN</td>\n",
              "      <td>1.110807</td>\n",
              "      <td>0.500342</td>\n",
              "      <td>3.451913</td>\n",
              "      <td>0.167155</td>\n",
              "      <td>2.004787</td>\n",
              "      <td>0.465233</td>\n",
              "      <td>0.544894</td>\n",
              "      <td>0.183051</td>\n",
              "      <td>0.162961</td>\n",
              "      <td>0.142429</td>\n",
              "      <td>0.077498</td>\n",
              "      <td>686.622488</td>\n",
              "      <td>1560.256377</td>\n",
              "      <td>1937.211452</td>\n",
              "    </tr>\n",
              "    <tr>\n",
              "      <th>min</th>\n",
              "      <td>1.000000</td>\n",
              "      <td>NaN</td>\n",
              "      <td>1.000000</td>\n",
              "      <td>0.000000</td>\n",
              "      <td>1.000000</td>\n",
              "      <td>0.000000</td>\n",
              "      <td>0.000000</td>\n",
              "      <td>0.000000</td>\n",
              "      <td>1.000000</td>\n",
              "      <td>0.059130</td>\n",
              "      <td>0.079070</td>\n",
              "      <td>0.000000</td>\n",
              "      <td>0.022392</td>\n",
              "      <td>2.000000</td>\n",
              "      <td>20.000000</td>\n",
              "      <td>22.000000</td>\n",
              "    </tr>\n",
              "    <tr>\n",
              "      <th>25%</th>\n",
              "      <td>183.500000</td>\n",
              "      <td>NaN</td>\n",
              "      <td>2.000000</td>\n",
              "      <td>0.000000</td>\n",
              "      <td>4.000000</td>\n",
              "      <td>0.000000</td>\n",
              "      <td>1.000000</td>\n",
              "      <td>0.000000</td>\n",
              "      <td>1.000000</td>\n",
              "      <td>0.337083</td>\n",
              "      <td>0.337842</td>\n",
              "      <td>0.520000</td>\n",
              "      <td>0.134950</td>\n",
              "      <td>315.500000</td>\n",
              "      <td>2497.000000</td>\n",
              "      <td>3152.000000</td>\n",
              "    </tr>\n",
              "    <tr>\n",
              "      <th>50%</th>\n",
              "      <td>366.000000</td>\n",
              "      <td>NaN</td>\n",
              "      <td>3.000000</td>\n",
              "      <td>1.000000</td>\n",
              "      <td>7.000000</td>\n",
              "      <td>0.000000</td>\n",
              "      <td>3.000000</td>\n",
              "      <td>1.000000</td>\n",
              "      <td>1.000000</td>\n",
              "      <td>0.498333</td>\n",
              "      <td>0.486733</td>\n",
              "      <td>0.626667</td>\n",
              "      <td>0.180975</td>\n",
              "      <td>713.000000</td>\n",
              "      <td>3662.000000</td>\n",
              "      <td>4548.000000</td>\n",
              "    </tr>\n",
              "    <tr>\n",
              "      <th>75%</th>\n",
              "      <td>548.500000</td>\n",
              "      <td>NaN</td>\n",
              "      <td>3.000000</td>\n",
              "      <td>1.000000</td>\n",
              "      <td>10.000000</td>\n",
              "      <td>0.000000</td>\n",
              "      <td>5.000000</td>\n",
              "      <td>1.000000</td>\n",
              "      <td>2.000000</td>\n",
              "      <td>0.655417</td>\n",
              "      <td>0.608602</td>\n",
              "      <td>0.730209</td>\n",
              "      <td>0.233214</td>\n",
              "      <td>1096.000000</td>\n",
              "      <td>4776.500000</td>\n",
              "      <td>5956.000000</td>\n",
              "    </tr>\n",
              "    <tr>\n",
              "      <th>max</th>\n",
              "      <td>731.000000</td>\n",
              "      <td>NaN</td>\n",
              "      <td>4.000000</td>\n",
              "      <td>1.000000</td>\n",
              "      <td>12.000000</td>\n",
              "      <td>1.000000</td>\n",
              "      <td>6.000000</td>\n",
              "      <td>1.000000</td>\n",
              "      <td>3.000000</td>\n",
              "      <td>0.861667</td>\n",
              "      <td>0.840896</td>\n",
              "      <td>0.972500</td>\n",
              "      <td>0.507463</td>\n",
              "      <td>3410.000000</td>\n",
              "      <td>6946.000000</td>\n",
              "      <td>8714.000000</td>\n",
              "    </tr>\n",
              "  </tbody>\n",
              "</table>\n",
              "</div>"
            ],
            "text/plain": [
              "           instant      dteday      season          yr        mnth  \\\n",
              "count   731.000000         731  731.000000  731.000000  731.000000   \n",
              "unique         NaN         731         NaN         NaN         NaN   \n",
              "top            NaN  2011-01-01         NaN         NaN         NaN   \n",
              "freq           NaN           1         NaN         NaN         NaN   \n",
              "mean    366.000000         NaN    2.496580    0.500684    6.519836   \n",
              "std     211.165812         NaN    1.110807    0.500342    3.451913   \n",
              "min       1.000000         NaN    1.000000    0.000000    1.000000   \n",
              "25%     183.500000         NaN    2.000000    0.000000    4.000000   \n",
              "50%     366.000000         NaN    3.000000    1.000000    7.000000   \n",
              "75%     548.500000         NaN    3.000000    1.000000   10.000000   \n",
              "max     731.000000         NaN    4.000000    1.000000   12.000000   \n",
              "\n",
              "           holiday     weekday  workingday  weathersit        temp  \\\n",
              "count   731.000000  731.000000  731.000000  731.000000  731.000000   \n",
              "unique         NaN         NaN         NaN         NaN         NaN   \n",
              "top            NaN         NaN         NaN         NaN         NaN   \n",
              "freq           NaN         NaN         NaN         NaN         NaN   \n",
              "mean      0.028728    2.997264    0.683995    1.395349    0.495385   \n",
              "std       0.167155    2.004787    0.465233    0.544894    0.183051   \n",
              "min       0.000000    0.000000    0.000000    1.000000    0.059130   \n",
              "25%       0.000000    1.000000    0.000000    1.000000    0.337083   \n",
              "50%       0.000000    3.000000    1.000000    1.000000    0.498333   \n",
              "75%       0.000000    5.000000    1.000000    2.000000    0.655417   \n",
              "max       1.000000    6.000000    1.000000    3.000000    0.861667   \n",
              "\n",
              "             atemp         hum   windspeed       casual   registered  \\\n",
              "count   731.000000  731.000000  731.000000   731.000000   731.000000   \n",
              "unique         NaN         NaN         NaN          NaN          NaN   \n",
              "top            NaN         NaN         NaN          NaN          NaN   \n",
              "freq           NaN         NaN         NaN          NaN          NaN   \n",
              "mean      0.474354    0.627894    0.190486   848.176471  3656.172367   \n",
              "std       0.162961    0.142429    0.077498   686.622488  1560.256377   \n",
              "min       0.079070    0.000000    0.022392     2.000000    20.000000   \n",
              "25%       0.337842    0.520000    0.134950   315.500000  2497.000000   \n",
              "50%       0.486733    0.626667    0.180975   713.000000  3662.000000   \n",
              "75%       0.608602    0.730209    0.233214  1096.000000  4776.500000   \n",
              "max       0.840896    0.972500    0.507463  3410.000000  6946.000000   \n",
              "\n",
              "                cnt  \n",
              "count    731.000000  \n",
              "unique          NaN  \n",
              "top             NaN  \n",
              "freq            NaN  \n",
              "mean    4504.348837  \n",
              "std     1937.211452  \n",
              "min       22.000000  \n",
              "25%     3152.000000  \n",
              "50%     4548.000000  \n",
              "75%     5956.000000  \n",
              "max     8714.000000  "
            ]
          },
          "execution_count": 50,
          "metadata": {},
          "output_type": "execute_result"
        }
      ],
      "source": [
        "df.describe(include=\"all\")"
      ]
    },
    {
      "cell_type": "markdown",
      "metadata": {
        "id": "7dtxhAPrkhPL"
      },
      "source": [
        "### **Assessing Data Insight:**\n",
        "**Perubahan Nama Kolom**\\\n",
        "Diperlukan untuk memberikan interpretasi data yang jelas\n",
        "- `dteday` -> `date`\n",
        "- `yr` -> `year`\n",
        "- `mnth` -> `month`\n",
        "- `hum` -> `humidity`\n",
        "- `cnt` -> `total`\n",
        "---\n",
        "**Perubahan tipe data**\\\n",
        "Diperlukan untuk memudahkan pengolahan data\n",
        "- tipe data `date` dapat diubah ke **datetime**\n",
        "- tipe data `season` dapat diubah ke **category**\n",
        "- tipe data `holiday` dapat diubah ke **category**\n",
        "- tipe data `workingday` dapat diubah ke **category**\n",
        "- tipe data `weathersit` dapat diubah ke **category**\n",
        "---\n",
        "**Perubahan nilai data**\n",
        "- kolom `temp`, `atemp`, `hum`, `windspeed` merupakan data yang sudah dinormalisasi, untuk memahami data lebih baik saya akan mengembalikan data menjadi data semula\n",
        "- kolom `weekday`, `month`, `year` dapat diubah sesuai dengan date\n",
        "\n",
        "---\n",
        "**Penghapusan Kolom**\\\n",
        "kolom `Instant` hanya indeks data, tidak terlalu berpengaruh terhadap informasi data"
      ]
    },
    {
      "cell_type": "markdown",
      "metadata": {
        "id": "EhN5R4hr8DC1"
      },
      "source": [
        "### Cleaning Data"
      ]
    },
    {
      "cell_type": "markdown",
      "metadata": {},
      "source": [
        "#### **A. Merubah nama Kolom**"
      ]
    },
    {
      "cell_type": "code",
      "execution_count": 51,
      "metadata": {
        "id": "jVnYpprE9Evz"
      },
      "outputs": [
        {
          "name": "stdout",
          "output_type": "stream",
          "text": [
            "<class 'pandas.core.frame.DataFrame'>\n",
            "RangeIndex: 731 entries, 0 to 730\n",
            "Data columns (total 16 columns):\n",
            " #   Column      Non-Null Count  Dtype  \n",
            "---  ------      --------------  -----  \n",
            " 0   instant     731 non-null    int64  \n",
            " 1   date        731 non-null    object \n",
            " 2   season      731 non-null    int64  \n",
            " 3   year        731 non-null    int64  \n",
            " 4   month       731 non-null    int64  \n",
            " 5   holiday     731 non-null    int64  \n",
            " 6   weekday     731 non-null    int64  \n",
            " 7   workingday  731 non-null    int64  \n",
            " 8   weathersit  731 non-null    int64  \n",
            " 9   temp        731 non-null    float64\n",
            " 10  atemp       731 non-null    float64\n",
            " 11  humidity    731 non-null    float64\n",
            " 12  windspeed   731 non-null    float64\n",
            " 13  casual      731 non-null    int64  \n",
            " 14  registered  731 non-null    int64  \n",
            " 15  total       731 non-null    int64  \n",
            "dtypes: float64(4), int64(11), object(1)\n",
            "memory usage: 91.5+ KB\n"
          ]
        }
      ],
      "source": [
        "df.rename(columns={\n",
        "          \"dteday\": \"date\",\n",
        "          \"yr\": \"year\",\n",
        "          \"mnth\": \"month\",\n",
        "          \"hum\": \"humidity\",\n",
        "          \"cnt\": \"total\"}, inplace=True)\n",
        "\n",
        "df.info()"
      ]
    },
    {
      "cell_type": "markdown",
      "metadata": {},
      "source": [
        "#### **B. Merubah Tipe Data**"
      ]
    },
    {
      "cell_type": "code",
      "execution_count": 52,
      "metadata": {},
      "outputs": [
        {
          "name": "stdout",
          "output_type": "stream",
          "text": [
            "<class 'pandas.core.frame.DataFrame'>\n",
            "RangeIndex: 731 entries, 0 to 730\n",
            "Data columns (total 16 columns):\n",
            " #   Column      Non-Null Count  Dtype         \n",
            "---  ------      --------------  -----         \n",
            " 0   instant     731 non-null    int64         \n",
            " 1   date        731 non-null    datetime64[ns]\n",
            " 2   season      731 non-null    category      \n",
            " 3   year        731 non-null    int64         \n",
            " 4   month       731 non-null    int64         \n",
            " 5   holiday     731 non-null    category      \n",
            " 6   weekday     731 non-null    int64         \n",
            " 7   workingday  731 non-null    category      \n",
            " 8   weathersit  731 non-null    category      \n",
            " 9   temp        731 non-null    float64       \n",
            " 10  atemp       731 non-null    float64       \n",
            " 11  humidity    731 non-null    float64       \n",
            " 12  windspeed   731 non-null    float64       \n",
            " 13  casual      731 non-null    int64         \n",
            " 14  registered  731 non-null    int64         \n",
            " 15  total       731 non-null    int64         \n",
            "dtypes: category(4), datetime64[ns](1), float64(4), int64(7)\n",
            "memory usage: 72.1 KB\n"
          ]
        }
      ],
      "source": [
        "df['date'] = pd.to_datetime(df['date'])\n",
        "df['season'] = df['season'].astype('category')\n",
        "df['holiday'] = df['holiday'].astype('category')\n",
        "df['workingday'] = df['workingday'].astype('category')\n",
        "df['weathersit'] = df['weathersit'].astype('category')\n",
        "\n",
        "df.info()"
      ]
    },
    {
      "cell_type": "markdown",
      "metadata": {},
      "source": [
        "#### **C. Merubah Nilai Data**"
      ]
    },
    {
      "cell_type": "markdown",
      "metadata": {},
      "source": [
        "Merubah nilai data `temp`, `atemp`, `humidity` dan `windspeed`"
      ]
    },
    {
      "cell_type": "code",
      "execution_count": 53,
      "metadata": {},
      "outputs": [
        {
          "data": {
            "application/vnd.microsoft.datawrangler.viewer.v0+json": {
              "columns": [
                {
                  "name": "index",
                  "rawType": "int64",
                  "type": "integer"
                },
                {
                  "name": "atemp",
                  "rawType": "float64",
                  "type": "float"
                },
                {
                  "name": "temp",
                  "rawType": "float64",
                  "type": "float"
                },
                {
                  "name": "humidity",
                  "rawType": "float64",
                  "type": "float"
                },
                {
                  "name": "windspeed",
                  "rawType": "float64",
                  "type": "float"
                }
              ],
              "conversionMethod": "pd.DataFrame",
              "ref": "5a5075b7-7c24-4b27-bcec-6a2f52c3bf94",
              "rows": [
                [
                  "0",
                  "18.18125",
                  "14.110847",
                  "80.58330000000001",
                  "10.749882"
                ],
                [
                  "1",
                  "17.686950000000003",
                  "14.902598000000001",
                  "69.6087",
                  "16.652113"
                ],
                [
                  "2",
                  "9.47025",
                  "8.050924",
                  "43.7273",
                  "16.636703"
                ],
                [
                  "3",
                  "10.6061",
                  "8.200000000000001",
                  "59.0435",
                  "10.739832"
                ],
                [
                  "4",
                  "11.4635",
                  "9.305237",
                  "43.695699999999995",
                  "12.522300000000001"
                ]
              ],
              "shape": {
                "columns": 4,
                "rows": 5
              }
            },
            "text/html": [
              "<div>\n",
              "<style scoped>\n",
              "    .dataframe tbody tr th:only-of-type {\n",
              "        vertical-align: middle;\n",
              "    }\n",
              "\n",
              "    .dataframe tbody tr th {\n",
              "        vertical-align: top;\n",
              "    }\n",
              "\n",
              "    .dataframe thead th {\n",
              "        text-align: right;\n",
              "    }\n",
              "</style>\n",
              "<table border=\"1\" class=\"dataframe\">\n",
              "  <thead>\n",
              "    <tr style=\"text-align: right;\">\n",
              "      <th></th>\n",
              "      <th>atemp</th>\n",
              "      <th>temp</th>\n",
              "      <th>humidity</th>\n",
              "      <th>windspeed</th>\n",
              "    </tr>\n",
              "  </thead>\n",
              "  <tbody>\n",
              "    <tr>\n",
              "      <th>0</th>\n",
              "      <td>18.18125</td>\n",
              "      <td>14.110847</td>\n",
              "      <td>80.5833</td>\n",
              "      <td>10.749882</td>\n",
              "    </tr>\n",
              "    <tr>\n",
              "      <th>1</th>\n",
              "      <td>17.68695</td>\n",
              "      <td>14.902598</td>\n",
              "      <td>69.6087</td>\n",
              "      <td>16.652113</td>\n",
              "    </tr>\n",
              "    <tr>\n",
              "      <th>2</th>\n",
              "      <td>9.47025</td>\n",
              "      <td>8.050924</td>\n",
              "      <td>43.7273</td>\n",
              "      <td>16.636703</td>\n",
              "    </tr>\n",
              "    <tr>\n",
              "      <th>3</th>\n",
              "      <td>10.60610</td>\n",
              "      <td>8.200000</td>\n",
              "      <td>59.0435</td>\n",
              "      <td>10.739832</td>\n",
              "    </tr>\n",
              "    <tr>\n",
              "      <th>4</th>\n",
              "      <td>11.46350</td>\n",
              "      <td>9.305237</td>\n",
              "      <td>43.6957</td>\n",
              "      <td>12.522300</td>\n",
              "    </tr>\n",
              "  </tbody>\n",
              "</table>\n",
              "</div>"
            ],
            "text/plain": [
              "      atemp       temp  humidity  windspeed\n",
              "0  18.18125  14.110847   80.5833  10.749882\n",
              "1  17.68695  14.902598   69.6087  16.652113\n",
              "2   9.47025   8.050924   43.7273  16.636703\n",
              "3  10.60610   8.200000   59.0435  10.739832\n",
              "4  11.46350   9.305237   43.6957  12.522300"
            ]
          },
          "execution_count": 53,
          "metadata": {},
          "output_type": "execute_result"
        }
      ],
      "source": [
        "df['temp'] = df['temp']*41\n",
        "df['atemp'] = df['atemp']*50\n",
        "df['humidity'] = df['humidity']*100\n",
        "df['windspeed'] = df['windspeed']*67\n",
        "\n",
        "df[['atemp', 'temp', 'humidity', 'windspeed']].head()"
      ]
    },
    {
      "cell_type": "markdown",
      "metadata": {},
      "source": [
        "\n",
        "merubah kolom `weekday`, `month`, dan `year` sesuai dengan date "
      ]
    },
    {
      "cell_type": "code",
      "execution_count": 54,
      "metadata": {},
      "outputs": [
        {
          "data": {
            "application/vnd.microsoft.datawrangler.viewer.v0+json": {
              "columns": [
                {
                  "name": "index",
                  "rawType": "int64",
                  "type": "integer"
                },
                {
                  "name": "instant",
                  "rawType": "int64",
                  "type": "integer"
                },
                {
                  "name": "date",
                  "rawType": "datetime64[ns]",
                  "type": "datetime"
                },
                {
                  "name": "season",
                  "rawType": "category",
                  "type": "unknown"
                },
                {
                  "name": "year",
                  "rawType": "int32",
                  "type": "integer"
                },
                {
                  "name": "month",
                  "rawType": "object",
                  "type": "string"
                },
                {
                  "name": "holiday",
                  "rawType": "category",
                  "type": "unknown"
                },
                {
                  "name": "weekday",
                  "rawType": "object",
                  "type": "string"
                },
                {
                  "name": "workingday",
                  "rawType": "category",
                  "type": "unknown"
                },
                {
                  "name": "weathersit",
                  "rawType": "category",
                  "type": "unknown"
                },
                {
                  "name": "temp",
                  "rawType": "float64",
                  "type": "float"
                },
                {
                  "name": "atemp",
                  "rawType": "float64",
                  "type": "float"
                },
                {
                  "name": "humidity",
                  "rawType": "float64",
                  "type": "float"
                },
                {
                  "name": "windspeed",
                  "rawType": "float64",
                  "type": "float"
                },
                {
                  "name": "casual",
                  "rawType": "int64",
                  "type": "integer"
                },
                {
                  "name": "registered",
                  "rawType": "int64",
                  "type": "integer"
                },
                {
                  "name": "total",
                  "rawType": "int64",
                  "type": "integer"
                }
              ],
              "conversionMethod": "pd.DataFrame",
              "ref": "36cf650f-6b14-4dff-8392-0a81d30da8ea",
              "rows": [
                [
                  "0",
                  "1",
                  "2011-01-01 00:00:00",
                  "1",
                  "2011",
                  "January",
                  "0",
                  "Saturday",
                  "0",
                  "2",
                  "14.110847",
                  "18.18125",
                  "80.58330000000001",
                  "10.749882",
                  "331",
                  "654",
                  "985"
                ],
                [
                  "1",
                  "2",
                  "2011-01-02 00:00:00",
                  "1",
                  "2011",
                  "January",
                  "0",
                  "Sunday",
                  "0",
                  "2",
                  "14.902598000000001",
                  "17.686950000000003",
                  "69.6087",
                  "16.652113",
                  "131",
                  "670",
                  "801"
                ],
                [
                  "2",
                  "3",
                  "2011-01-03 00:00:00",
                  "1",
                  "2011",
                  "January",
                  "0",
                  "Monday",
                  "1",
                  "1",
                  "8.050924",
                  "9.47025",
                  "43.7273",
                  "16.636703",
                  "120",
                  "1229",
                  "1349"
                ],
                [
                  "3",
                  "4",
                  "2011-01-04 00:00:00",
                  "1",
                  "2011",
                  "January",
                  "0",
                  "Tuesday",
                  "1",
                  "1",
                  "8.200000000000001",
                  "10.6061",
                  "59.0435",
                  "10.739832",
                  "108",
                  "1454",
                  "1562"
                ],
                [
                  "4",
                  "5",
                  "2011-01-05 00:00:00",
                  "1",
                  "2011",
                  "January",
                  "0",
                  "Wednesday",
                  "1",
                  "1",
                  "9.305237",
                  "11.4635",
                  "43.695699999999995",
                  "12.522300000000001",
                  "82",
                  "1518",
                  "1600"
                ],
                [
                  "5",
                  "6",
                  "2011-01-06 00:00:00",
                  "1",
                  "2011",
                  "January",
                  "0",
                  "Thursday",
                  "1",
                  "1",
                  "8.378268",
                  "11.66045",
                  "51.8261",
                  "6.0008684",
                  "88",
                  "1518",
                  "1606"
                ],
                [
                  "6",
                  "7",
                  "2011-01-07 00:00:00",
                  "1",
                  "2011",
                  "January",
                  "0",
                  "Friday",
                  "1",
                  "2",
                  "8.057402",
                  "10.44195",
                  "49.8696",
                  "11.304642",
                  "148",
                  "1362",
                  "1510"
                ]
              ],
              "shape": {
                "columns": 16,
                "rows": 7
              }
            },
            "text/html": [
              "<div>\n",
              "<style scoped>\n",
              "    .dataframe tbody tr th:only-of-type {\n",
              "        vertical-align: middle;\n",
              "    }\n",
              "\n",
              "    .dataframe tbody tr th {\n",
              "        vertical-align: top;\n",
              "    }\n",
              "\n",
              "    .dataframe thead th {\n",
              "        text-align: right;\n",
              "    }\n",
              "</style>\n",
              "<table border=\"1\" class=\"dataframe\">\n",
              "  <thead>\n",
              "    <tr style=\"text-align: right;\">\n",
              "      <th></th>\n",
              "      <th>instant</th>\n",
              "      <th>date</th>\n",
              "      <th>season</th>\n",
              "      <th>year</th>\n",
              "      <th>month</th>\n",
              "      <th>holiday</th>\n",
              "      <th>weekday</th>\n",
              "      <th>workingday</th>\n",
              "      <th>weathersit</th>\n",
              "      <th>temp</th>\n",
              "      <th>atemp</th>\n",
              "      <th>humidity</th>\n",
              "      <th>windspeed</th>\n",
              "      <th>casual</th>\n",
              "      <th>registered</th>\n",
              "      <th>total</th>\n",
              "    </tr>\n",
              "  </thead>\n",
              "  <tbody>\n",
              "    <tr>\n",
              "      <th>0</th>\n",
              "      <td>1</td>\n",
              "      <td>2011-01-01</td>\n",
              "      <td>1</td>\n",
              "      <td>2011</td>\n",
              "      <td>January</td>\n",
              "      <td>0</td>\n",
              "      <td>Saturday</td>\n",
              "      <td>0</td>\n",
              "      <td>2</td>\n",
              "      <td>14.110847</td>\n",
              "      <td>18.18125</td>\n",
              "      <td>80.5833</td>\n",
              "      <td>10.749882</td>\n",
              "      <td>331</td>\n",
              "      <td>654</td>\n",
              "      <td>985</td>\n",
              "    </tr>\n",
              "    <tr>\n",
              "      <th>1</th>\n",
              "      <td>2</td>\n",
              "      <td>2011-01-02</td>\n",
              "      <td>1</td>\n",
              "      <td>2011</td>\n",
              "      <td>January</td>\n",
              "      <td>0</td>\n",
              "      <td>Sunday</td>\n",
              "      <td>0</td>\n",
              "      <td>2</td>\n",
              "      <td>14.902598</td>\n",
              "      <td>17.68695</td>\n",
              "      <td>69.6087</td>\n",
              "      <td>16.652113</td>\n",
              "      <td>131</td>\n",
              "      <td>670</td>\n",
              "      <td>801</td>\n",
              "    </tr>\n",
              "    <tr>\n",
              "      <th>2</th>\n",
              "      <td>3</td>\n",
              "      <td>2011-01-03</td>\n",
              "      <td>1</td>\n",
              "      <td>2011</td>\n",
              "      <td>January</td>\n",
              "      <td>0</td>\n",
              "      <td>Monday</td>\n",
              "      <td>1</td>\n",
              "      <td>1</td>\n",
              "      <td>8.050924</td>\n",
              "      <td>9.47025</td>\n",
              "      <td>43.7273</td>\n",
              "      <td>16.636703</td>\n",
              "      <td>120</td>\n",
              "      <td>1229</td>\n",
              "      <td>1349</td>\n",
              "    </tr>\n",
              "    <tr>\n",
              "      <th>3</th>\n",
              "      <td>4</td>\n",
              "      <td>2011-01-04</td>\n",
              "      <td>1</td>\n",
              "      <td>2011</td>\n",
              "      <td>January</td>\n",
              "      <td>0</td>\n",
              "      <td>Tuesday</td>\n",
              "      <td>1</td>\n",
              "      <td>1</td>\n",
              "      <td>8.200000</td>\n",
              "      <td>10.60610</td>\n",
              "      <td>59.0435</td>\n",
              "      <td>10.739832</td>\n",
              "      <td>108</td>\n",
              "      <td>1454</td>\n",
              "      <td>1562</td>\n",
              "    </tr>\n",
              "    <tr>\n",
              "      <th>4</th>\n",
              "      <td>5</td>\n",
              "      <td>2011-01-05</td>\n",
              "      <td>1</td>\n",
              "      <td>2011</td>\n",
              "      <td>January</td>\n",
              "      <td>0</td>\n",
              "      <td>Wednesday</td>\n",
              "      <td>1</td>\n",
              "      <td>1</td>\n",
              "      <td>9.305237</td>\n",
              "      <td>11.46350</td>\n",
              "      <td>43.6957</td>\n",
              "      <td>12.522300</td>\n",
              "      <td>82</td>\n",
              "      <td>1518</td>\n",
              "      <td>1600</td>\n",
              "    </tr>\n",
              "    <tr>\n",
              "      <th>5</th>\n",
              "      <td>6</td>\n",
              "      <td>2011-01-06</td>\n",
              "      <td>1</td>\n",
              "      <td>2011</td>\n",
              "      <td>January</td>\n",
              "      <td>0</td>\n",
              "      <td>Thursday</td>\n",
              "      <td>1</td>\n",
              "      <td>1</td>\n",
              "      <td>8.378268</td>\n",
              "      <td>11.66045</td>\n",
              "      <td>51.8261</td>\n",
              "      <td>6.000868</td>\n",
              "      <td>88</td>\n",
              "      <td>1518</td>\n",
              "      <td>1606</td>\n",
              "    </tr>\n",
              "    <tr>\n",
              "      <th>6</th>\n",
              "      <td>7</td>\n",
              "      <td>2011-01-07</td>\n",
              "      <td>1</td>\n",
              "      <td>2011</td>\n",
              "      <td>January</td>\n",
              "      <td>0</td>\n",
              "      <td>Friday</td>\n",
              "      <td>1</td>\n",
              "      <td>2</td>\n",
              "      <td>8.057402</td>\n",
              "      <td>10.44195</td>\n",
              "      <td>49.8696</td>\n",
              "      <td>11.304642</td>\n",
              "      <td>148</td>\n",
              "      <td>1362</td>\n",
              "      <td>1510</td>\n",
              "    </tr>\n",
              "  </tbody>\n",
              "</table>\n",
              "</div>"
            ],
            "text/plain": [
              "   instant       date season  year    month holiday    weekday workingday  \\\n",
              "0        1 2011-01-01      1  2011  January       0   Saturday          0   \n",
              "1        2 2011-01-02      1  2011  January       0     Sunday          0   \n",
              "2        3 2011-01-03      1  2011  January       0     Monday          1   \n",
              "3        4 2011-01-04      1  2011  January       0    Tuesday          1   \n",
              "4        5 2011-01-05      1  2011  January       0  Wednesday          1   \n",
              "5        6 2011-01-06      1  2011  January       0   Thursday          1   \n",
              "6        7 2011-01-07      1  2011  January       0     Friday          1   \n",
              "\n",
              "  weathersit       temp     atemp  humidity  windspeed  casual  registered  \\\n",
              "0          2  14.110847  18.18125   80.5833  10.749882     331         654   \n",
              "1          2  14.902598  17.68695   69.6087  16.652113     131         670   \n",
              "2          1   8.050924   9.47025   43.7273  16.636703     120        1229   \n",
              "3          1   8.200000  10.60610   59.0435  10.739832     108        1454   \n",
              "4          1   9.305237  11.46350   43.6957  12.522300      82        1518   \n",
              "5          1   8.378268  11.66045   51.8261   6.000868      88        1518   \n",
              "6          2   8.057402  10.44195   49.8696  11.304642     148        1362   \n",
              "\n",
              "   total  \n",
              "0    985  \n",
              "1    801  \n",
              "2   1349  \n",
              "3   1562  \n",
              "4   1600  \n",
              "5   1606  \n",
              "6   1510  "
            ]
          },
          "execution_count": 54,
          "metadata": {},
          "output_type": "execute_result"
        }
      ],
      "source": [
        "df['weekday'] = df['date'].dt.day_name()\n",
        "df['month'] = df['date'].dt.month_name()\n",
        "df['year'] = df['date'].dt.year\n",
        "\n",
        "df.head(7)"
      ]
    },
    {
      "cell_type": "markdown",
      "metadata": {},
      "source": [
        "Merubah Value dari kolom `Season` dan `Weathersit` menjadi dari numerik menjadi kategorik sesuai dengan Dataset Dictionary"
      ]
    },
    {
      "cell_type": "code",
      "execution_count": 55,
      "metadata": {},
      "outputs": [
        {
          "name": "stderr",
          "output_type": "stream",
          "text": [
            "C:\\Users\\itzir\\AppData\\Local\\Temp\\ipykernel_6284\\3748698256.py:1: FutureWarning: A value is trying to be set on a copy of a DataFrame or Series through chained assignment using an inplace method.\n",
            "The behavior will change in pandas 3.0. This inplace method will never work because the intermediate object on which we are setting values always behaves as a copy.\n",
            "\n",
            "For example, when doing 'df[col].method(value, inplace=True)', try using 'df.method({col: value}, inplace=True)' or df[col] = df[col].method(value) instead, to perform the operation inplace on the original object.\n",
            "\n",
            "\n",
            "  df.season.replace((1,2,3,4), ('Spring','Summer','Fall','Winter'), inplace=True)\n",
            "C:\\Users\\itzir\\AppData\\Local\\Temp\\ipykernel_6284\\3748698256.py:1: FutureWarning: The behavior of Series.replace (and DataFrame.replace) with CategoricalDtype is deprecated. In a future version, replace will only be used for cases that preserve the categories. To change the categories, use ser.cat.rename_categories instead.\n",
            "  df.season.replace((1,2,3,4), ('Spring','Summer','Fall','Winter'), inplace=True)\n",
            "C:\\Users\\itzir\\AppData\\Local\\Temp\\ipykernel_6284\\3748698256.py:2: FutureWarning: A value is trying to be set on a copy of a DataFrame or Series through chained assignment using an inplace method.\n",
            "The behavior will change in pandas 3.0. This inplace method will never work because the intermediate object on which we are setting values always behaves as a copy.\n",
            "\n",
            "For example, when doing 'df[col].method(value, inplace=True)', try using 'df.method({col: value}, inplace=True)' or df[col] = df[col].method(value) instead, to perform the operation inplace on the original object.\n",
            "\n",
            "\n",
            "  df.weathersit.replace((1,2,3,4), ('Clear or Cloudy','Foggy','Drizzling','Severe Weather'), inplace=True)\n",
            "C:\\Users\\itzir\\AppData\\Local\\Temp\\ipykernel_6284\\3748698256.py:2: FutureWarning: The behavior of Series.replace (and DataFrame.replace) with CategoricalDtype is deprecated. In a future version, replace will only be used for cases that preserve the categories. To change the categories, use ser.cat.rename_categories instead.\n",
            "  df.weathersit.replace((1,2,3,4), ('Clear or Cloudy','Foggy','Drizzling','Severe Weather'), inplace=True)\n"
          ]
        },
        {
          "data": {
            "application/vnd.microsoft.datawrangler.viewer.v0+json": {
              "columns": [
                {
                  "name": "index",
                  "rawType": "int64",
                  "type": "integer"
                },
                {
                  "name": "instant",
                  "rawType": "int64",
                  "type": "integer"
                },
                {
                  "name": "date",
                  "rawType": "datetime64[ns]",
                  "type": "datetime"
                },
                {
                  "name": "season",
                  "rawType": "category",
                  "type": "unknown"
                },
                {
                  "name": "year",
                  "rawType": "int32",
                  "type": "integer"
                },
                {
                  "name": "month",
                  "rawType": "object",
                  "type": "string"
                },
                {
                  "name": "holiday",
                  "rawType": "category",
                  "type": "unknown"
                },
                {
                  "name": "weekday",
                  "rawType": "object",
                  "type": "string"
                },
                {
                  "name": "workingday",
                  "rawType": "category",
                  "type": "unknown"
                },
                {
                  "name": "weathersit",
                  "rawType": "category",
                  "type": "unknown"
                },
                {
                  "name": "temp",
                  "rawType": "float64",
                  "type": "float"
                },
                {
                  "name": "atemp",
                  "rawType": "float64",
                  "type": "float"
                },
                {
                  "name": "humidity",
                  "rawType": "float64",
                  "type": "float"
                },
                {
                  "name": "windspeed",
                  "rawType": "float64",
                  "type": "float"
                },
                {
                  "name": "casual",
                  "rawType": "int64",
                  "type": "integer"
                },
                {
                  "name": "registered",
                  "rawType": "int64",
                  "type": "integer"
                },
                {
                  "name": "total",
                  "rawType": "int64",
                  "type": "integer"
                }
              ],
              "conversionMethod": "pd.DataFrame",
              "ref": "a19d450e-8aca-4c62-9cac-463d3ad4249f",
              "rows": [
                [
                  "0",
                  "1",
                  "2011-01-01 00:00:00",
                  "Spring",
                  "2011",
                  "January",
                  "0",
                  "Saturday",
                  "0",
                  "Foggy",
                  "14.110847",
                  "18.18125",
                  "80.58330000000001",
                  "10.749882",
                  "331",
                  "654",
                  "985"
                ],
                [
                  "1",
                  "2",
                  "2011-01-02 00:00:00",
                  "Spring",
                  "2011",
                  "January",
                  "0",
                  "Sunday",
                  "0",
                  "Foggy",
                  "14.902598000000001",
                  "17.686950000000003",
                  "69.6087",
                  "16.652113",
                  "131",
                  "670",
                  "801"
                ],
                [
                  "2",
                  "3",
                  "2011-01-03 00:00:00",
                  "Spring",
                  "2011",
                  "January",
                  "0",
                  "Monday",
                  "1",
                  "Clear or Cloudy",
                  "8.050924",
                  "9.47025",
                  "43.7273",
                  "16.636703",
                  "120",
                  "1229",
                  "1349"
                ],
                [
                  "3",
                  "4",
                  "2011-01-04 00:00:00",
                  "Spring",
                  "2011",
                  "January",
                  "0",
                  "Tuesday",
                  "1",
                  "Clear or Cloudy",
                  "8.200000000000001",
                  "10.6061",
                  "59.0435",
                  "10.739832",
                  "108",
                  "1454",
                  "1562"
                ],
                [
                  "4",
                  "5",
                  "2011-01-05 00:00:00",
                  "Spring",
                  "2011",
                  "January",
                  "0",
                  "Wednesday",
                  "1",
                  "Clear or Cloudy",
                  "9.305237",
                  "11.4635",
                  "43.695699999999995",
                  "12.522300000000001",
                  "82",
                  "1518",
                  "1600"
                ],
                [
                  "5",
                  "6",
                  "2011-01-06 00:00:00",
                  "Spring",
                  "2011",
                  "January",
                  "0",
                  "Thursday",
                  "1",
                  "Clear or Cloudy",
                  "8.378268",
                  "11.66045",
                  "51.8261",
                  "6.0008684",
                  "88",
                  "1518",
                  "1606"
                ],
                [
                  "6",
                  "7",
                  "2011-01-07 00:00:00",
                  "Spring",
                  "2011",
                  "January",
                  "0",
                  "Friday",
                  "1",
                  "Foggy",
                  "8.057402",
                  "10.44195",
                  "49.8696",
                  "11.304642",
                  "148",
                  "1362",
                  "1510"
                ]
              ],
              "shape": {
                "columns": 16,
                "rows": 7
              }
            },
            "text/html": [
              "<div>\n",
              "<style scoped>\n",
              "    .dataframe tbody tr th:only-of-type {\n",
              "        vertical-align: middle;\n",
              "    }\n",
              "\n",
              "    .dataframe tbody tr th {\n",
              "        vertical-align: top;\n",
              "    }\n",
              "\n",
              "    .dataframe thead th {\n",
              "        text-align: right;\n",
              "    }\n",
              "</style>\n",
              "<table border=\"1\" class=\"dataframe\">\n",
              "  <thead>\n",
              "    <tr style=\"text-align: right;\">\n",
              "      <th></th>\n",
              "      <th>instant</th>\n",
              "      <th>date</th>\n",
              "      <th>season</th>\n",
              "      <th>year</th>\n",
              "      <th>month</th>\n",
              "      <th>holiday</th>\n",
              "      <th>weekday</th>\n",
              "      <th>workingday</th>\n",
              "      <th>weathersit</th>\n",
              "      <th>temp</th>\n",
              "      <th>atemp</th>\n",
              "      <th>humidity</th>\n",
              "      <th>windspeed</th>\n",
              "      <th>casual</th>\n",
              "      <th>registered</th>\n",
              "      <th>total</th>\n",
              "    </tr>\n",
              "  </thead>\n",
              "  <tbody>\n",
              "    <tr>\n",
              "      <th>0</th>\n",
              "      <td>1</td>\n",
              "      <td>2011-01-01</td>\n",
              "      <td>Spring</td>\n",
              "      <td>2011</td>\n",
              "      <td>January</td>\n",
              "      <td>0</td>\n",
              "      <td>Saturday</td>\n",
              "      <td>0</td>\n",
              "      <td>Foggy</td>\n",
              "      <td>14.110847</td>\n",
              "      <td>18.18125</td>\n",
              "      <td>80.5833</td>\n",
              "      <td>10.749882</td>\n",
              "      <td>331</td>\n",
              "      <td>654</td>\n",
              "      <td>985</td>\n",
              "    </tr>\n",
              "    <tr>\n",
              "      <th>1</th>\n",
              "      <td>2</td>\n",
              "      <td>2011-01-02</td>\n",
              "      <td>Spring</td>\n",
              "      <td>2011</td>\n",
              "      <td>January</td>\n",
              "      <td>0</td>\n",
              "      <td>Sunday</td>\n",
              "      <td>0</td>\n",
              "      <td>Foggy</td>\n",
              "      <td>14.902598</td>\n",
              "      <td>17.68695</td>\n",
              "      <td>69.6087</td>\n",
              "      <td>16.652113</td>\n",
              "      <td>131</td>\n",
              "      <td>670</td>\n",
              "      <td>801</td>\n",
              "    </tr>\n",
              "    <tr>\n",
              "      <th>2</th>\n",
              "      <td>3</td>\n",
              "      <td>2011-01-03</td>\n",
              "      <td>Spring</td>\n",
              "      <td>2011</td>\n",
              "      <td>January</td>\n",
              "      <td>0</td>\n",
              "      <td>Monday</td>\n",
              "      <td>1</td>\n",
              "      <td>Clear or Cloudy</td>\n",
              "      <td>8.050924</td>\n",
              "      <td>9.47025</td>\n",
              "      <td>43.7273</td>\n",
              "      <td>16.636703</td>\n",
              "      <td>120</td>\n",
              "      <td>1229</td>\n",
              "      <td>1349</td>\n",
              "    </tr>\n",
              "    <tr>\n",
              "      <th>3</th>\n",
              "      <td>4</td>\n",
              "      <td>2011-01-04</td>\n",
              "      <td>Spring</td>\n",
              "      <td>2011</td>\n",
              "      <td>January</td>\n",
              "      <td>0</td>\n",
              "      <td>Tuesday</td>\n",
              "      <td>1</td>\n",
              "      <td>Clear or Cloudy</td>\n",
              "      <td>8.200000</td>\n",
              "      <td>10.60610</td>\n",
              "      <td>59.0435</td>\n",
              "      <td>10.739832</td>\n",
              "      <td>108</td>\n",
              "      <td>1454</td>\n",
              "      <td>1562</td>\n",
              "    </tr>\n",
              "    <tr>\n",
              "      <th>4</th>\n",
              "      <td>5</td>\n",
              "      <td>2011-01-05</td>\n",
              "      <td>Spring</td>\n",
              "      <td>2011</td>\n",
              "      <td>January</td>\n",
              "      <td>0</td>\n",
              "      <td>Wednesday</td>\n",
              "      <td>1</td>\n",
              "      <td>Clear or Cloudy</td>\n",
              "      <td>9.305237</td>\n",
              "      <td>11.46350</td>\n",
              "      <td>43.6957</td>\n",
              "      <td>12.522300</td>\n",
              "      <td>82</td>\n",
              "      <td>1518</td>\n",
              "      <td>1600</td>\n",
              "    </tr>\n",
              "    <tr>\n",
              "      <th>5</th>\n",
              "      <td>6</td>\n",
              "      <td>2011-01-06</td>\n",
              "      <td>Spring</td>\n",
              "      <td>2011</td>\n",
              "      <td>January</td>\n",
              "      <td>0</td>\n",
              "      <td>Thursday</td>\n",
              "      <td>1</td>\n",
              "      <td>Clear or Cloudy</td>\n",
              "      <td>8.378268</td>\n",
              "      <td>11.66045</td>\n",
              "      <td>51.8261</td>\n",
              "      <td>6.000868</td>\n",
              "      <td>88</td>\n",
              "      <td>1518</td>\n",
              "      <td>1606</td>\n",
              "    </tr>\n",
              "    <tr>\n",
              "      <th>6</th>\n",
              "      <td>7</td>\n",
              "      <td>2011-01-07</td>\n",
              "      <td>Spring</td>\n",
              "      <td>2011</td>\n",
              "      <td>January</td>\n",
              "      <td>0</td>\n",
              "      <td>Friday</td>\n",
              "      <td>1</td>\n",
              "      <td>Foggy</td>\n",
              "      <td>8.057402</td>\n",
              "      <td>10.44195</td>\n",
              "      <td>49.8696</td>\n",
              "      <td>11.304642</td>\n",
              "      <td>148</td>\n",
              "      <td>1362</td>\n",
              "      <td>1510</td>\n",
              "    </tr>\n",
              "  </tbody>\n",
              "</table>\n",
              "</div>"
            ],
            "text/plain": [
              "   instant       date  season  year    month holiday    weekday workingday  \\\n",
              "0        1 2011-01-01  Spring  2011  January       0   Saturday          0   \n",
              "1        2 2011-01-02  Spring  2011  January       0     Sunday          0   \n",
              "2        3 2011-01-03  Spring  2011  January       0     Monday          1   \n",
              "3        4 2011-01-04  Spring  2011  January       0    Tuesday          1   \n",
              "4        5 2011-01-05  Spring  2011  January       0  Wednesday          1   \n",
              "5        6 2011-01-06  Spring  2011  January       0   Thursday          1   \n",
              "6        7 2011-01-07  Spring  2011  January       0     Friday          1   \n",
              "\n",
              "        weathersit       temp     atemp  humidity  windspeed  casual  \\\n",
              "0            Foggy  14.110847  18.18125   80.5833  10.749882     331   \n",
              "1            Foggy  14.902598  17.68695   69.6087  16.652113     131   \n",
              "2  Clear or Cloudy   8.050924   9.47025   43.7273  16.636703     120   \n",
              "3  Clear or Cloudy   8.200000  10.60610   59.0435  10.739832     108   \n",
              "4  Clear or Cloudy   9.305237  11.46350   43.6957  12.522300      82   \n",
              "5  Clear or Cloudy   8.378268  11.66045   51.8261   6.000868      88   \n",
              "6            Foggy   8.057402  10.44195   49.8696  11.304642     148   \n",
              "\n",
              "   registered  total  \n",
              "0         654    985  \n",
              "1         670    801  \n",
              "2        1229   1349  \n",
              "3        1454   1562  \n",
              "4        1518   1600  \n",
              "5        1518   1606  \n",
              "6        1362   1510  "
            ]
          },
          "execution_count": 55,
          "metadata": {},
          "output_type": "execute_result"
        }
      ],
      "source": [
        "df.season.replace((1,2,3,4), ('Spring','Summer','Fall','Winter'), inplace=True)\n",
        "df.weathersit.replace((1,2,3,4), ('Clear or Cloudy','Foggy','Drizzling','Severe Weather'), inplace=True)\n",
        "\n",
        "df.head(7)"
      ]
    },
    {
      "cell_type": "markdown",
      "metadata": {},
      "source": [
        "#### **D. Menghapus Kolom**"
      ]
    },
    {
      "cell_type": "markdown",
      "metadata": {},
      "source": [
        "Kolom instant sebaiknya dihapus karena hanya merupakan index yang tidak memberikan informasi penting"
      ]
    },
    {
      "cell_type": "code",
      "execution_count": 56,
      "metadata": {},
      "outputs": [],
      "source": [
        "df.drop(columns=['instant'], inplace=True)"
      ]
    },
    {
      "cell_type": "markdown",
      "metadata": {},
      "source": [
        "#### **E. Menyimpan Data yang sudah bersih**"
      ]
    },
    {
      "cell_type": "code",
      "execution_count": 57,
      "metadata": {},
      "outputs": [],
      "source": [
        "df.to_csv('cleaned_day_dataset.csv', index=False)"
      ]
    },
    {
      "cell_type": "markdown",
      "metadata": {
        "id": "gp-Y6wU38DC1"
      },
      "source": [
        "## Exploratory Data Analysis (EDA)"
      ]
    },
    {
      "cell_type": "markdown",
      "metadata": {},
      "source": [
        "Berdasarkan Analisis, saya dapat membuat satu kolom baru weekend yang merupakan hari Sabtu dan Minggu untuk memberikan pengetahuan akan tingkat sales pada weekday dengan weekend"
      ]
    },
    {
      "cell_type": "code",
      "execution_count": 58,
      "metadata": {},
      "outputs": [],
      "source": [
        "df[\"weekend\"] = df[\"weekday\"].apply(lambda x: 1 if x in [\"Saturday\", \"Sunday\"] else 0)\n",
        "df[\"weekend\"] = df[\"weekend\"].astype(\"category\")\n",
        "\n",
        "cols = df.columns.tolist()\n",
        "workingday_index = cols.index(\"workingday\")\n",
        "cols.insert(workingday_index + 1, cols.pop(cols.index(\"weekend\")))\n",
        "df = df[cols]\n",
        "\n",
        "df.to_csv('updated_day_dataset.csv', index=False)"
      ]
    },
    {
      "cell_type": "code",
      "execution_count": 59,
      "metadata": {},
      "outputs": [
        {
          "data": {
            "application/vnd.microsoft.datawrangler.viewer.v0+json": {
              "columns": [
                {
                  "name": "index",
                  "rawType": "int64",
                  "type": "integer"
                },
                {
                  "name": "date",
                  "rawType": "datetime64[ns]",
                  "type": "datetime"
                },
                {
                  "name": "season",
                  "rawType": "category",
                  "type": "unknown"
                },
                {
                  "name": "year",
                  "rawType": "int32",
                  "type": "integer"
                },
                {
                  "name": "month",
                  "rawType": "object",
                  "type": "string"
                },
                {
                  "name": "holiday",
                  "rawType": "category",
                  "type": "unknown"
                },
                {
                  "name": "weekday",
                  "rawType": "object",
                  "type": "string"
                },
                {
                  "name": "workingday",
                  "rawType": "category",
                  "type": "unknown"
                },
                {
                  "name": "weekend",
                  "rawType": "category",
                  "type": "unknown"
                },
                {
                  "name": "weathersit",
                  "rawType": "category",
                  "type": "unknown"
                },
                {
                  "name": "temp",
                  "rawType": "float64",
                  "type": "float"
                },
                {
                  "name": "atemp",
                  "rawType": "float64",
                  "type": "float"
                },
                {
                  "name": "humidity",
                  "rawType": "float64",
                  "type": "float"
                },
                {
                  "name": "windspeed",
                  "rawType": "float64",
                  "type": "float"
                },
                {
                  "name": "casual",
                  "rawType": "int64",
                  "type": "integer"
                },
                {
                  "name": "registered",
                  "rawType": "int64",
                  "type": "integer"
                },
                {
                  "name": "total",
                  "rawType": "int64",
                  "type": "integer"
                }
              ],
              "conversionMethod": "pd.DataFrame",
              "ref": "df86488f-d149-4a00-8d70-ca520d0d38de",
              "rows": [
                [
                  "0",
                  "2011-01-01 00:00:00",
                  "Spring",
                  "2011",
                  "January",
                  "0",
                  "Saturday",
                  "0",
                  "1",
                  "Foggy",
                  "14.110847",
                  "18.18125",
                  "80.58330000000001",
                  "10.749882",
                  "331",
                  "654",
                  "985"
                ],
                [
                  "1",
                  "2011-01-02 00:00:00",
                  "Spring",
                  "2011",
                  "January",
                  "0",
                  "Sunday",
                  "0",
                  "1",
                  "Foggy",
                  "14.902598000000001",
                  "17.686950000000003",
                  "69.6087",
                  "16.652113",
                  "131",
                  "670",
                  "801"
                ],
                [
                  "2",
                  "2011-01-03 00:00:00",
                  "Spring",
                  "2011",
                  "January",
                  "0",
                  "Monday",
                  "1",
                  "0",
                  "Clear or Cloudy",
                  "8.050924",
                  "9.47025",
                  "43.7273",
                  "16.636703",
                  "120",
                  "1229",
                  "1349"
                ],
                [
                  "3",
                  "2011-01-04 00:00:00",
                  "Spring",
                  "2011",
                  "January",
                  "0",
                  "Tuesday",
                  "1",
                  "0",
                  "Clear or Cloudy",
                  "8.200000000000001",
                  "10.6061",
                  "59.0435",
                  "10.739832",
                  "108",
                  "1454",
                  "1562"
                ],
                [
                  "4",
                  "2011-01-05 00:00:00",
                  "Spring",
                  "2011",
                  "January",
                  "0",
                  "Wednesday",
                  "1",
                  "0",
                  "Clear or Cloudy",
                  "9.305237",
                  "11.4635",
                  "43.695699999999995",
                  "12.522300000000001",
                  "82",
                  "1518",
                  "1600"
                ]
              ],
              "shape": {
                "columns": 16,
                "rows": 5
              }
            },
            "text/html": [
              "<div>\n",
              "<style scoped>\n",
              "    .dataframe tbody tr th:only-of-type {\n",
              "        vertical-align: middle;\n",
              "    }\n",
              "\n",
              "    .dataframe tbody tr th {\n",
              "        vertical-align: top;\n",
              "    }\n",
              "\n",
              "    .dataframe thead th {\n",
              "        text-align: right;\n",
              "    }\n",
              "</style>\n",
              "<table border=\"1\" class=\"dataframe\">\n",
              "  <thead>\n",
              "    <tr style=\"text-align: right;\">\n",
              "      <th></th>\n",
              "      <th>date</th>\n",
              "      <th>season</th>\n",
              "      <th>year</th>\n",
              "      <th>month</th>\n",
              "      <th>holiday</th>\n",
              "      <th>weekday</th>\n",
              "      <th>workingday</th>\n",
              "      <th>weekend</th>\n",
              "      <th>weathersit</th>\n",
              "      <th>temp</th>\n",
              "      <th>atemp</th>\n",
              "      <th>humidity</th>\n",
              "      <th>windspeed</th>\n",
              "      <th>casual</th>\n",
              "      <th>registered</th>\n",
              "      <th>total</th>\n",
              "    </tr>\n",
              "  </thead>\n",
              "  <tbody>\n",
              "    <tr>\n",
              "      <th>0</th>\n",
              "      <td>2011-01-01</td>\n",
              "      <td>Spring</td>\n",
              "      <td>2011</td>\n",
              "      <td>January</td>\n",
              "      <td>0</td>\n",
              "      <td>Saturday</td>\n",
              "      <td>0</td>\n",
              "      <td>1</td>\n",
              "      <td>Foggy</td>\n",
              "      <td>14.110847</td>\n",
              "      <td>18.18125</td>\n",
              "      <td>80.5833</td>\n",
              "      <td>10.749882</td>\n",
              "      <td>331</td>\n",
              "      <td>654</td>\n",
              "      <td>985</td>\n",
              "    </tr>\n",
              "    <tr>\n",
              "      <th>1</th>\n",
              "      <td>2011-01-02</td>\n",
              "      <td>Spring</td>\n",
              "      <td>2011</td>\n",
              "      <td>January</td>\n",
              "      <td>0</td>\n",
              "      <td>Sunday</td>\n",
              "      <td>0</td>\n",
              "      <td>1</td>\n",
              "      <td>Foggy</td>\n",
              "      <td>14.902598</td>\n",
              "      <td>17.68695</td>\n",
              "      <td>69.6087</td>\n",
              "      <td>16.652113</td>\n",
              "      <td>131</td>\n",
              "      <td>670</td>\n",
              "      <td>801</td>\n",
              "    </tr>\n",
              "    <tr>\n",
              "      <th>2</th>\n",
              "      <td>2011-01-03</td>\n",
              "      <td>Spring</td>\n",
              "      <td>2011</td>\n",
              "      <td>January</td>\n",
              "      <td>0</td>\n",
              "      <td>Monday</td>\n",
              "      <td>1</td>\n",
              "      <td>0</td>\n",
              "      <td>Clear or Cloudy</td>\n",
              "      <td>8.050924</td>\n",
              "      <td>9.47025</td>\n",
              "      <td>43.7273</td>\n",
              "      <td>16.636703</td>\n",
              "      <td>120</td>\n",
              "      <td>1229</td>\n",
              "      <td>1349</td>\n",
              "    </tr>\n",
              "    <tr>\n",
              "      <th>3</th>\n",
              "      <td>2011-01-04</td>\n",
              "      <td>Spring</td>\n",
              "      <td>2011</td>\n",
              "      <td>January</td>\n",
              "      <td>0</td>\n",
              "      <td>Tuesday</td>\n",
              "      <td>1</td>\n",
              "      <td>0</td>\n",
              "      <td>Clear or Cloudy</td>\n",
              "      <td>8.200000</td>\n",
              "      <td>10.60610</td>\n",
              "      <td>59.0435</td>\n",
              "      <td>10.739832</td>\n",
              "      <td>108</td>\n",
              "      <td>1454</td>\n",
              "      <td>1562</td>\n",
              "    </tr>\n",
              "    <tr>\n",
              "      <th>4</th>\n",
              "      <td>2011-01-05</td>\n",
              "      <td>Spring</td>\n",
              "      <td>2011</td>\n",
              "      <td>January</td>\n",
              "      <td>0</td>\n",
              "      <td>Wednesday</td>\n",
              "      <td>1</td>\n",
              "      <td>0</td>\n",
              "      <td>Clear or Cloudy</td>\n",
              "      <td>9.305237</td>\n",
              "      <td>11.46350</td>\n",
              "      <td>43.6957</td>\n",
              "      <td>12.522300</td>\n",
              "      <td>82</td>\n",
              "      <td>1518</td>\n",
              "      <td>1600</td>\n",
              "    </tr>\n",
              "  </tbody>\n",
              "</table>\n",
              "</div>"
            ],
            "text/plain": [
              "        date  season  year    month holiday    weekday workingday weekend  \\\n",
              "0 2011-01-01  Spring  2011  January       0   Saturday          0       1   \n",
              "1 2011-01-02  Spring  2011  January       0     Sunday          0       1   \n",
              "2 2011-01-03  Spring  2011  January       0     Monday          1       0   \n",
              "3 2011-01-04  Spring  2011  January       0    Tuesday          1       0   \n",
              "4 2011-01-05  Spring  2011  January       0  Wednesday          1       0   \n",
              "\n",
              "        weathersit       temp     atemp  humidity  windspeed  casual  \\\n",
              "0            Foggy  14.110847  18.18125   80.5833  10.749882     331   \n",
              "1            Foggy  14.902598  17.68695   69.6087  16.652113     131   \n",
              "2  Clear or Cloudy   8.050924   9.47025   43.7273  16.636703     120   \n",
              "3  Clear or Cloudy   8.200000  10.60610   59.0435  10.739832     108   \n",
              "4  Clear or Cloudy   9.305237  11.46350   43.6957  12.522300      82   \n",
              "\n",
              "   registered  total  \n",
              "0         654    985  \n",
              "1         670    801  \n",
              "2        1229   1349  \n",
              "3        1454   1562  \n",
              "4        1518   1600  "
            ]
          },
          "execution_count": 59,
          "metadata": {},
          "output_type": "execute_result"
        }
      ],
      "source": [
        "df.head()"
      ]
    },
    {
      "cell_type": "markdown",
      "metadata": {
        "id": "MW7WF2kr8DC1"
      },
      "source": [
        "#### **Menjawab Pertanyaan Bisnis**"
      ]
    },
    {
      "cell_type": "markdown",
      "metadata": {},
      "source": [
        "**Mengetahui perkembangan penyewaan sewa sepeda tiap tahunnya**"
      ]
    },
    {
      "cell_type": "code",
      "execution_count": 60,
      "metadata": {},
      "outputs": [
        {
          "data": {
            "application/vnd.microsoft.datawrangler.viewer.v0+json": {
              "columns": [
                {
                  "name": "year",
                  "rawType": "int32",
                  "type": "integer"
                },
                {
                  "name": "mean",
                  "rawType": "float64",
                  "type": "float"
                },
                {
                  "name": "sum",
                  "rawType": "int64",
                  "type": "integer"
                },
                {
                  "name": "count",
                  "rawType": "int64",
                  "type": "integer"
                }
              ],
              "conversionMethod": "pd.DataFrame",
              "ref": "20b634a2-8a5e-4ca9-980f-537c2672bf47",
              "rows": [
                [
                  "2011",
                  "3405.7616438356163",
                  "1243103",
                  "365"
                ],
                [
                  "2012",
                  "5599.934426229508",
                  "2049576",
                  "366"
                ]
              ],
              "shape": {
                "columns": 3,
                "rows": 2
              }
            },
            "text/html": [
              "<div>\n",
              "<style scoped>\n",
              "    .dataframe tbody tr th:only-of-type {\n",
              "        vertical-align: middle;\n",
              "    }\n",
              "\n",
              "    .dataframe tbody tr th {\n",
              "        vertical-align: top;\n",
              "    }\n",
              "\n",
              "    .dataframe thead th {\n",
              "        text-align: right;\n",
              "    }\n",
              "</style>\n",
              "<table border=\"1\" class=\"dataframe\">\n",
              "  <thead>\n",
              "    <tr style=\"text-align: right;\">\n",
              "      <th></th>\n",
              "      <th>mean</th>\n",
              "      <th>sum</th>\n",
              "      <th>count</th>\n",
              "    </tr>\n",
              "    <tr>\n",
              "      <th>year</th>\n",
              "      <th></th>\n",
              "      <th></th>\n",
              "      <th></th>\n",
              "    </tr>\n",
              "  </thead>\n",
              "  <tbody>\n",
              "    <tr>\n",
              "      <th>2011</th>\n",
              "      <td>3405.761644</td>\n",
              "      <td>1243103</td>\n",
              "      <td>365</td>\n",
              "    </tr>\n",
              "    <tr>\n",
              "      <th>2012</th>\n",
              "      <td>5599.934426</td>\n",
              "      <td>2049576</td>\n",
              "      <td>366</td>\n",
              "    </tr>\n",
              "  </tbody>\n",
              "</table>\n",
              "</div>"
            ],
            "text/plain": [
              "             mean      sum  count\n",
              "year                             \n",
              "2011  3405.761644  1243103    365\n",
              "2012  5599.934426  2049576    366"
            ]
          },
          "execution_count": 60,
          "metadata": {},
          "output_type": "execute_result"
        }
      ],
      "source": [
        "yearly_rentals = df.groupby(\"year\")[\"total\"].agg([\"mean\", \"sum\", \"count\"])\n",
        "yearly_rentals"
      ]
    },
    {
      "cell_type": "markdown",
      "metadata": {},
      "source": [
        "**Mengetahui perbedaan banyak user Casual dan Registered**"
      ]
    },
    {
      "cell_type": "code",
      "execution_count": 61,
      "metadata": {},
      "outputs": [
        {
          "data": {
            "application/vnd.microsoft.datawrangler.viewer.v0+json": {
              "columns": [
                {
                  "name": "index",
                  "rawType": "object",
                  "type": "string"
                },
                {
                  "name": "casual",
                  "rawType": "float64",
                  "type": "float"
                },
                {
                  "name": "registered",
                  "rawType": "float64",
                  "type": "float"
                }
              ],
              "conversionMethod": "pd.DataFrame",
              "ref": "d6b12a7c-a326-403b-9812-c83bc0fc08b2",
              "rows": [
                [
                  "mean",
                  "848.1764705882352",
                  "3656.172366621067"
                ],
                [
                  "sum",
                  "620017.0",
                  "2672662.0"
                ]
              ],
              "shape": {
                "columns": 2,
                "rows": 2
              }
            },
            "text/html": [
              "<div>\n",
              "<style scoped>\n",
              "    .dataframe tbody tr th:only-of-type {\n",
              "        vertical-align: middle;\n",
              "    }\n",
              "\n",
              "    .dataframe tbody tr th {\n",
              "        vertical-align: top;\n",
              "    }\n",
              "\n",
              "    .dataframe thead th {\n",
              "        text-align: right;\n",
              "    }\n",
              "</style>\n",
              "<table border=\"1\" class=\"dataframe\">\n",
              "  <thead>\n",
              "    <tr style=\"text-align: right;\">\n",
              "      <th></th>\n",
              "      <th>casual</th>\n",
              "      <th>registered</th>\n",
              "    </tr>\n",
              "  </thead>\n",
              "  <tbody>\n",
              "    <tr>\n",
              "      <th>mean</th>\n",
              "      <td>848.176471</td>\n",
              "      <td>3.656172e+03</td>\n",
              "    </tr>\n",
              "    <tr>\n",
              "      <th>sum</th>\n",
              "      <td>620017.000000</td>\n",
              "      <td>2.672662e+06</td>\n",
              "    </tr>\n",
              "  </tbody>\n",
              "</table>\n",
              "</div>"
            ],
            "text/plain": [
              "             casual    registered\n",
              "mean     848.176471  3.656172e+03\n",
              "sum   620017.000000  2.672662e+06"
            ]
          },
          "execution_count": 61,
          "metadata": {},
          "output_type": "execute_result"
        }
      ],
      "source": [
        "user_type = df.agg({\"casual\": [\"mean\", \"sum\"], \"registered\": [\"mean\", \"sum\"]})\n",
        "user_type"
      ]
    },
    {
      "cell_type": "markdown",
      "metadata": {},
      "source": [
        "**Mengetahui Musim yang memiliki penyewaan tertinggi**"
      ]
    },
    {
      "cell_type": "code",
      "execution_count": 62,
      "metadata": {},
      "outputs": [
        {
          "name": "stderr",
          "output_type": "stream",
          "text": [
            "C:\\Users\\itzir\\AppData\\Local\\Temp\\ipykernel_6284\\2237792688.py:1: FutureWarning: The default of observed=False is deprecated and will be changed to True in a future version of pandas. Pass observed=False to retain current behavior or observed=True to adopt the future default and silence this warning.\n",
            "  season_peak = df.groupby(\"season\")[\"total\"].agg([\"mean\", \"sum\"]).sort_values(by=\"mean\", ascending=False)\n"
          ]
        },
        {
          "data": {
            "application/vnd.microsoft.datawrangler.viewer.v0+json": {
              "columns": [
                {
                  "name": "season",
                  "rawType": "category",
                  "type": "unknown"
                },
                {
                  "name": "mean",
                  "rawType": "float64",
                  "type": "float"
                },
                {
                  "name": "sum",
                  "rawType": "int64",
                  "type": "integer"
                }
              ],
              "conversionMethod": "pd.DataFrame",
              "ref": "a516eecc-5f98-491f-adf0-a438a20d3245",
              "rows": [
                [
                  "Fall",
                  "5644.303191489362",
                  "1061129"
                ],
                [
                  "Summer",
                  "4992.33152173913",
                  "918589"
                ],
                [
                  "Winter",
                  "4728.162921348315",
                  "841613"
                ],
                [
                  "Spring",
                  "2604.1325966850827",
                  "471348"
                ]
              ],
              "shape": {
                "columns": 2,
                "rows": 4
              }
            },
            "text/html": [
              "<div>\n",
              "<style scoped>\n",
              "    .dataframe tbody tr th:only-of-type {\n",
              "        vertical-align: middle;\n",
              "    }\n",
              "\n",
              "    .dataframe tbody tr th {\n",
              "        vertical-align: top;\n",
              "    }\n",
              "\n",
              "    .dataframe thead th {\n",
              "        text-align: right;\n",
              "    }\n",
              "</style>\n",
              "<table border=\"1\" class=\"dataframe\">\n",
              "  <thead>\n",
              "    <tr style=\"text-align: right;\">\n",
              "      <th></th>\n",
              "      <th>mean</th>\n",
              "      <th>sum</th>\n",
              "    </tr>\n",
              "    <tr>\n",
              "      <th>season</th>\n",
              "      <th></th>\n",
              "      <th></th>\n",
              "    </tr>\n",
              "  </thead>\n",
              "  <tbody>\n",
              "    <tr>\n",
              "      <th>Fall</th>\n",
              "      <td>5644.303191</td>\n",
              "      <td>1061129</td>\n",
              "    </tr>\n",
              "    <tr>\n",
              "      <th>Summer</th>\n",
              "      <td>4992.331522</td>\n",
              "      <td>918589</td>\n",
              "    </tr>\n",
              "    <tr>\n",
              "      <th>Winter</th>\n",
              "      <td>4728.162921</td>\n",
              "      <td>841613</td>\n",
              "    </tr>\n",
              "    <tr>\n",
              "      <th>Spring</th>\n",
              "      <td>2604.132597</td>\n",
              "      <td>471348</td>\n",
              "    </tr>\n",
              "  </tbody>\n",
              "</table>\n",
              "</div>"
            ],
            "text/plain": [
              "               mean      sum\n",
              "season                      \n",
              "Fall    5644.303191  1061129\n",
              "Summer  4992.331522   918589\n",
              "Winter  4728.162921   841613\n",
              "Spring  2604.132597   471348"
            ]
          },
          "execution_count": 62,
          "metadata": {},
          "output_type": "execute_result"
        }
      ],
      "source": [
        "season_peak = df.groupby(\"season\")[\"total\"].agg([\"mean\", \"sum\"]).sort_values(by=\"mean\", ascending=False)\n",
        "season_peak"
      ]
    },
    {
      "cell_type": "markdown",
      "metadata": {},
      "source": [
        "**Mengetahui Hari yang memiliki penyewaan tertinggi**"
      ]
    },
    {
      "cell_type": "code",
      "execution_count": 63,
      "metadata": {},
      "outputs": [
        {
          "data": {
            "application/vnd.microsoft.datawrangler.viewer.v0+json": {
              "columns": [
                {
                  "name": "weekday",
                  "rawType": "object",
                  "type": "string"
                },
                {
                  "name": "mean",
                  "rawType": "float64",
                  "type": "float"
                },
                {
                  "name": "sum",
                  "rawType": "int64",
                  "type": "integer"
                }
              ],
              "conversionMethod": "pd.DataFrame",
              "ref": "e01be444-db40-4f2a-a6c4-cc0c10de1207",
              "rows": [
                [
                  "Saturday",
                  "4550.542857142857",
                  "477807"
                ],
                [
                  "Sunday",
                  "4228.828571428571",
                  "444027"
                ],
                [
                  "Monday",
                  "4338.1238095238095",
                  "455503"
                ],
                [
                  "Tuesday",
                  "4510.663461538462",
                  "469109"
                ],
                [
                  "Wednesday",
                  "4548.538461538462",
                  "473048"
                ],
                [
                  "Thursday",
                  "4667.259615384615",
                  "485395"
                ],
                [
                  "Friday",
                  "4690.288461538462",
                  "487790"
                ]
              ],
              "shape": {
                "columns": 2,
                "rows": 7
              }
            },
            "text/html": [
              "<div>\n",
              "<style scoped>\n",
              "    .dataframe tbody tr th:only-of-type {\n",
              "        vertical-align: middle;\n",
              "    }\n",
              "\n",
              "    .dataframe tbody tr th {\n",
              "        vertical-align: top;\n",
              "    }\n",
              "\n",
              "    .dataframe thead th {\n",
              "        text-align: right;\n",
              "    }\n",
              "</style>\n",
              "<table border=\"1\" class=\"dataframe\">\n",
              "  <thead>\n",
              "    <tr style=\"text-align: right;\">\n",
              "      <th></th>\n",
              "      <th>mean</th>\n",
              "      <th>sum</th>\n",
              "    </tr>\n",
              "    <tr>\n",
              "      <th>weekday</th>\n",
              "      <th></th>\n",
              "      <th></th>\n",
              "    </tr>\n",
              "  </thead>\n",
              "  <tbody>\n",
              "    <tr>\n",
              "      <th>Saturday</th>\n",
              "      <td>4550.542857</td>\n",
              "      <td>477807</td>\n",
              "    </tr>\n",
              "    <tr>\n",
              "      <th>Sunday</th>\n",
              "      <td>4228.828571</td>\n",
              "      <td>444027</td>\n",
              "    </tr>\n",
              "    <tr>\n",
              "      <th>Monday</th>\n",
              "      <td>4338.123810</td>\n",
              "      <td>455503</td>\n",
              "    </tr>\n",
              "    <tr>\n",
              "      <th>Tuesday</th>\n",
              "      <td>4510.663462</td>\n",
              "      <td>469109</td>\n",
              "    </tr>\n",
              "    <tr>\n",
              "      <th>Wednesday</th>\n",
              "      <td>4548.538462</td>\n",
              "      <td>473048</td>\n",
              "    </tr>\n",
              "    <tr>\n",
              "      <th>Thursday</th>\n",
              "      <td>4667.259615</td>\n",
              "      <td>485395</td>\n",
              "    </tr>\n",
              "    <tr>\n",
              "      <th>Friday</th>\n",
              "      <td>4690.288462</td>\n",
              "      <td>487790</td>\n",
              "    </tr>\n",
              "  </tbody>\n",
              "</table>\n",
              "</div>"
            ],
            "text/plain": [
              "                  mean     sum\n",
              "weekday                       \n",
              "Saturday   4550.542857  477807\n",
              "Sunday     4228.828571  444027\n",
              "Monday     4338.123810  455503\n",
              "Tuesday    4510.663462  469109\n",
              "Wednesday  4548.538462  473048\n",
              "Thursday   4667.259615  485395\n",
              "Friday     4690.288462  487790"
            ]
          },
          "execution_count": 63,
          "metadata": {},
          "output_type": "execute_result"
        }
      ],
      "source": [
        "weekday_weekend_group = df.groupby(\"weekday\", sort=False)[\"total\"].agg([\"mean\", \"sum\"])\n",
        "weekday_weekend_group"
      ]
    },
    {
      "cell_type": "markdown",
      "metadata": {},
      "source": [
        "**Mengetahui pengaruh dari hari libur terhadap penyewaan sepeda**"
      ]
    },
    {
      "cell_type": "code",
      "execution_count": 64,
      "metadata": {},
      "outputs": [
        {
          "name": "stderr",
          "output_type": "stream",
          "text": [
            "C:\\Users\\itzir\\AppData\\Local\\Temp\\ipykernel_6284\\2638559828.py:1: FutureWarning: The default of observed=False is deprecated and will be changed to True in a future version of pandas. Pass observed=False to retain current behavior or observed=True to adopt the future default and silence this warning.\n",
            "  holiday_effect = df.groupby(\"holiday\")[\"total\"].agg([\"mean\", \"sum\"])\n"
          ]
        },
        {
          "data": {
            "application/vnd.microsoft.datawrangler.viewer.v0+json": {
              "columns": [
                {
                  "name": "holiday",
                  "rawType": "category",
                  "type": "unknown"
                },
                {
                  "name": "mean",
                  "rawType": "float64",
                  "type": "float"
                },
                {
                  "name": "sum",
                  "rawType": "int64",
                  "type": "integer"
                }
              ],
              "conversionMethod": "pd.DataFrame",
              "ref": "00b41a20-8fdb-420c-9da3-48b8188b25a2",
              "rows": [
                [
                  "0",
                  "4527.104225352113",
                  "3214244"
                ],
                [
                  "1",
                  "3735.0",
                  "78435"
                ]
              ],
              "shape": {
                "columns": 2,
                "rows": 2
              }
            },
            "text/html": [
              "<div>\n",
              "<style scoped>\n",
              "    .dataframe tbody tr th:only-of-type {\n",
              "        vertical-align: middle;\n",
              "    }\n",
              "\n",
              "    .dataframe tbody tr th {\n",
              "        vertical-align: top;\n",
              "    }\n",
              "\n",
              "    .dataframe thead th {\n",
              "        text-align: right;\n",
              "    }\n",
              "</style>\n",
              "<table border=\"1\" class=\"dataframe\">\n",
              "  <thead>\n",
              "    <tr style=\"text-align: right;\">\n",
              "      <th></th>\n",
              "      <th>mean</th>\n",
              "      <th>sum</th>\n",
              "    </tr>\n",
              "    <tr>\n",
              "      <th>holiday</th>\n",
              "      <th></th>\n",
              "      <th></th>\n",
              "    </tr>\n",
              "  </thead>\n",
              "  <tbody>\n",
              "    <tr>\n",
              "      <th>0</th>\n",
              "      <td>4527.104225</td>\n",
              "      <td>3214244</td>\n",
              "    </tr>\n",
              "    <tr>\n",
              "      <th>1</th>\n",
              "      <td>3735.000000</td>\n",
              "      <td>78435</td>\n",
              "    </tr>\n",
              "  </tbody>\n",
              "</table>\n",
              "</div>"
            ],
            "text/plain": [
              "                mean      sum\n",
              "holiday                      \n",
              "0        4527.104225  3214244\n",
              "1        3735.000000    78435"
            ]
          },
          "execution_count": 64,
          "metadata": {},
          "output_type": "execute_result"
        }
      ],
      "source": [
        "holiday_effect = df.groupby(\"holiday\")[\"total\"].agg([\"mean\", \"sum\"])\n",
        "holiday_effect"
      ]
    },
    {
      "cell_type": "markdown",
      "metadata": {},
      "source": [
        "**Mengetahui pengaruh dari cuaca terhadap penyewaan sepeda**"
      ]
    },
    {
      "cell_type": "code",
      "execution_count": 65,
      "metadata": {},
      "outputs": [
        {
          "name": "stderr",
          "output_type": "stream",
          "text": [
            "C:\\Users\\itzir\\AppData\\Local\\Temp\\ipykernel_6284\\2983106649.py:1: FutureWarning: The default of observed=False is deprecated and will be changed to True in a future version of pandas. Pass observed=False to retain current behavior or observed=True to adopt the future default and silence this warning.\n",
            "  weather_effect = df.groupby(\"weathersit\")[\"total\"].agg([\"mean\", \"sum\"]).sort_values(by=\"mean\", ascending=False)\n"
          ]
        },
        {
          "data": {
            "application/vnd.microsoft.datawrangler.viewer.v0+json": {
              "columns": [
                {
                  "name": "weathersit",
                  "rawType": "category",
                  "type": "unknown"
                },
                {
                  "name": "mean",
                  "rawType": "float64",
                  "type": "float"
                },
                {
                  "name": "sum",
                  "rawType": "int64",
                  "type": "integer"
                }
              ],
              "conversionMethod": "pd.DataFrame",
              "ref": "f318d494-4436-46c2-ad2f-40bfa83fb3cb",
              "rows": [
                [
                  "Clear or Cloudy",
                  "4876.7861771058315",
                  "2257952"
                ],
                [
                  "Foggy",
                  "4035.862348178138",
                  "996858"
                ],
                [
                  "Drizzling",
                  "1803.2857142857142",
                  "37869"
                ]
              ],
              "shape": {
                "columns": 2,
                "rows": 3
              }
            },
            "text/html": [
              "<div>\n",
              "<style scoped>\n",
              "    .dataframe tbody tr th:only-of-type {\n",
              "        vertical-align: middle;\n",
              "    }\n",
              "\n",
              "    .dataframe tbody tr th {\n",
              "        vertical-align: top;\n",
              "    }\n",
              "\n",
              "    .dataframe thead th {\n",
              "        text-align: right;\n",
              "    }\n",
              "</style>\n",
              "<table border=\"1\" class=\"dataframe\">\n",
              "  <thead>\n",
              "    <tr style=\"text-align: right;\">\n",
              "      <th></th>\n",
              "      <th>mean</th>\n",
              "      <th>sum</th>\n",
              "    </tr>\n",
              "    <tr>\n",
              "      <th>weathersit</th>\n",
              "      <th></th>\n",
              "      <th></th>\n",
              "    </tr>\n",
              "  </thead>\n",
              "  <tbody>\n",
              "    <tr>\n",
              "      <th>Clear or Cloudy</th>\n",
              "      <td>4876.786177</td>\n",
              "      <td>2257952</td>\n",
              "    </tr>\n",
              "    <tr>\n",
              "      <th>Foggy</th>\n",
              "      <td>4035.862348</td>\n",
              "      <td>996858</td>\n",
              "    </tr>\n",
              "    <tr>\n",
              "      <th>Drizzling</th>\n",
              "      <td>1803.285714</td>\n",
              "      <td>37869</td>\n",
              "    </tr>\n",
              "  </tbody>\n",
              "</table>\n",
              "</div>"
            ],
            "text/plain": [
              "                        mean      sum\n",
              "weathersit                           \n",
              "Clear or Cloudy  4876.786177  2257952\n",
              "Foggy            4035.862348   996858\n",
              "Drizzling        1803.285714    37869"
            ]
          },
          "execution_count": 65,
          "metadata": {},
          "output_type": "execute_result"
        }
      ],
      "source": [
        "weather_effect = df.groupby(\"weathersit\")[\"total\"].agg([\"mean\", \"sum\"]).sort_values(by=\"mean\", ascending=False)\n",
        "weather_effect"
      ]
    },
    {
      "cell_type": "markdown",
      "metadata": {
        "id": "zsyZjqak8DC2"
      },
      "source": [
        "## Visualization & Explanatory Analysis"
      ]
    },
    {
      "cell_type": "markdown",
      "metadata": {
        "id": "HZxOiQ6n8DC2"
      },
      "source": [
        "#### **Bagaimana Perkembangan Penyewaan Sepeda Pertahunnya ?**"
      ]
    },
    {
      "cell_type": "code",
      "execution_count": 66,
      "metadata": {},
      "outputs": [
        {
          "name": "stderr",
          "output_type": "stream",
          "text": [
            "C:\\Users\\itzir\\AppData\\Local\\Temp\\ipykernel_6284\\2595423517.py:3: FutureWarning: 'M' is deprecated and will be removed in a future version, please use 'ME' instead.\n",
            "  daily_rentals = df.resample('M')['total'].sum()\n"
          ]
        },
        {
          "data": {
            "image/png": "[encoded data removed]",
            "text/plain": [
              "<Figure size 1200x600 with 1 Axes>"
            ]
          },
          "metadata": {},
          "output_type": "display_data"
        }
      ],
      "source": [
        "# Visualisasi Line Chart Perkembangan Penyewaan Sepeda\n",
        "df.set_index('date', inplace=True)\n",
        "daily_rentals = df.resample('M')['total'].sum()\n",
        "\n",
        "plt.figure(figsize=(12, 6))\n",
        "sns.lineplot(x=daily_rentals.index, y=daily_rentals, marker=\"o\", color=\"b\")\n",
        "plt.title(\"Perkembangan Penyewaan Sepeda per Bulan\")\n",
        "plt.xlabel(\"Tanggal\")\n",
        "plt.ylabel(\"Total Penyewaan\")\n",
        "plt.xticks(rotation=45)\n",
        "plt.grid(True)\n",
        "plt.show()"
      ]
    },
    {
      "cell_type": "markdown",
      "metadata": {},
      "source": [
        "#### **Bagaimana perbedaan user yang tidak terdaftar dan user yang terdaftar pada penyewaan sepeda ?**\n"
      ]
    },
    {
      "cell_type": "code",
      "execution_count": 67,
      "metadata": {},
      "outputs": [
        {
          "name": "stderr",
          "output_type": "stream",
          "text": [
            "C:\\Users\\itzir\\AppData\\Local\\Temp\\ipykernel_6284\\3160729257.py:2: FutureWarning: \n",
            "\n",
            "Passing `palette` without assigning `hue` is deprecated and will be removed in v0.14.0. Assign the `x` variable to `hue` and set `legend=False` for the same effect.\n",
            "\n",
            "  sns.barplot(x=[\"Casual\", \"Registered\"], y=user_type.loc[\"mean\"], palette=\"viridis\")\n"
          ]
        },
        {
          "data": {
            "text/plain": [
              "Text(0, 0.5, 'Rata-rata Penyewaan')"
            ]
          },
          "execution_count": 67,
          "metadata": {},
          "output_type": "execute_result"
        },
        {
          "data": {
            "image/png": "[encoded data removed]",
            "text/plain": [
              "<Figure size 1200x600 with 1 Axes>"
            ]
          },
          "metadata": {},
          "output_type": "display_data"
        }
      ],
      "source": [
        "plt.figure(figsize=(12, 6))\n",
        "sns.barplot(x=[\"Casual\", \"Registered\"], y=user_type.loc[\"mean\"], palette=\"viridis\")\n",
        "plt.title(\"Perbedaan User Casual vs Registered\")\n",
        "plt.ylabel(\"Rata-rata Penyewaan\")"
      ]
    },
    {
      "cell_type": "markdown",
      "metadata": {},
      "source": [
        "\n",
        "#### **Pada musim apakah penyewaan sepeda mencapai puncaknya ?**\n"
      ]
    },
    {
      "cell_type": "code",
      "execution_count": 68,
      "metadata": {},
      "outputs": [
        {
          "name": "stderr",
          "output_type": "stream",
          "text": [
            "C:\\Users\\itzir\\AppData\\Local\\Temp\\ipykernel_6284\\4128534902.py:2: FutureWarning: \n",
            "\n",
            "Passing `palette` without assigning `hue` is deprecated and will be removed in v0.14.0. Assign the `x` variable to `hue` and set `legend=False` for the same effect.\n",
            "\n",
            "  sns.barplot(x=season_peak.index, y=season_peak[\"mean\"], palette=\"magma\")\n"
          ]
        },
        {
          "data": {
            "text/plain": [
              "Text(0, 0.5, 'Rata-rata Penyewaan')"
            ]
          },
          "execution_count": 68,
          "metadata": {},
          "output_type": "execute_result"
        },
        {
          "data": {
            "image/png": "[encoded data removed]",
            "text/plain": [
              "<Figure size 1200x600 with 1 Axes>"
            ]
          },
          "metadata": {},
          "output_type": "display_data"
        }
      ],
      "source": [
        "plt.figure(figsize=(12, 6))\n",
        "sns.barplot(x=season_peak.index, y=season_peak[\"mean\"], palette=\"magma\")\n",
        "plt.title(\"Rata-rata Penyewaan Sepeda Berdasarkan Musim\")\n",
        "plt.ylabel(\"Rata-rata Penyewaan\")"
      ]
    },
    {
      "cell_type": "markdown",
      "metadata": {},
      "source": [
        "#### **Pada hari apakah penyewaan sepeda mencapai puncaknya ?**\n",
        "\n"
      ]
    },
    {
      "cell_type": "code",
      "execution_count": null,
      "metadata": {},
      "outputs": [
        {
          "name": "stderr",
          "output_type": "stream",
          "text": [
            "C:\\Users\\itzir\\AppData\\Local\\Temp\\ipykernel_6284\\2038847948.py:3: FutureWarning: \n",
            "\n",
            "Passing `palette` without assigning `hue` is deprecated and will be removed in v0.14.0. Assign the `x` variable to `hue` and set `legend=False` for the same effect.\n",
            "\n",
            "  sns.barplot(x=weekday_weekend_group.index, y=weekday_weekend_group_sorted[\"sum\"], palette=\"coolwarm\")\n"
          ]
        },
        {
          "data": {
            "text/plain": [
              "Text(0, 0.5, 'Sum of Rentals')"
            ]
          },
          "execution_count": 69,
          "metadata": {},
          "output_type": "execute_result"
        },
        {
          "data": {
            "image/png": "[encoded data removed]",
            "text/plain": [
              "<Figure size 1200x600 with 1 Axes>"
            ]
          },
          "metadata": {},
          "output_type": "display_data"
        }
      ],
      "source": [
        "weekday_weekend_group_sorted = weekday_weekend_group.sort_values(by=\"sum\", ascending=False)\n",
        "plt.figure(figsize=(12, 6))\n",
        "sns.barplot(x=weekday_weekend_group.index, y=weekday_weekend_group_sorted[\"sum\"], palette=\"coolwarm\")\n",
        "plt.title(\"Ranking hari jumlah penyewaan sepeda\")\n",
        "plt.ylabel(\"Sum of Rentals\")"
      ]
    },
    {
      "cell_type": "markdown",
      "metadata": {},
      "source": [
        "#### **Apakah dengan adanya Liburan meningkatkan penyewaan sepeda ?**\n",
        "\n"
      ]
    },
    {
      "cell_type": "code",
      "execution_count": 70,
      "metadata": {},
      "outputs": [
        {
          "name": "stderr",
          "output_type": "stream",
          "text": [
            "C:\\Users\\itzir\\AppData\\Local\\Temp\\ipykernel_6284\\2787596846.py:2: FutureWarning: \n",
            "\n",
            "Passing `palette` without assigning `hue` is deprecated and will be removed in v0.14.0. Assign the `x` variable to `hue` and set `legend=False` for the same effect.\n",
            "\n",
            "  sns.barplot(x=[\"Hari Biasa\", \"Hari Libur\"], y=holiday_effect[\"mean\"], palette=\"rocket\")\n"
          ]
        },
        {
          "data": {
            "text/plain": [
              "Text(0.5, 1.0, 'Pengaruh Hari Libur terhadap Penyewaan')"
            ]
          },
          "execution_count": 70,
          "metadata": {},
          "output_type": "execute_result"
        },
        {
          "data": {
            "image/png": "[encoded data removed]",
            "text/plain": [
              "<Figure size 1200x600 with 1 Axes>"
            ]
          },
          "metadata": {},
          "output_type": "display_data"
        }
      ],
      "source": [
        "plt.figure(figsize=(12, 6))\n",
        "sns.barplot(x=[\"Hari Biasa\", \"Hari Libur\"], y=holiday_effect[\"mean\"], palette=\"rocket\")\n",
        "plt.title(\"Pengaruh Hari Libur terhadap Penyewaan\")\n"
      ]
    },
    {
      "cell_type": "markdown",
      "metadata": {},
      "source": [
        "#### **Apakah cuaca mempengaruhi jumlah penyewaan sepeda ?**\n"
      ]
    },
    {
      "cell_type": "code",
      "execution_count": 71,
      "metadata": {},
      "outputs": [
        {
          "name": "stderr",
          "output_type": "stream",
          "text": [
            "C:\\Users\\itzir\\AppData\\Local\\Temp\\ipykernel_6284\\2607199121.py:2: FutureWarning: \n",
            "\n",
            "Passing `palette` without assigning `hue` is deprecated and will be removed in v0.14.0. Assign the `x` variable to `hue` and set `legend=False` for the same effect.\n",
            "\n",
            "  sns.barplot(x=weather_effect.index, y=weather_effect[\"mean\"], palette=\"Set2\")\n"
          ]
        },
        {
          "data": {
            "text/plain": [
              "Text(0, 0.5, 'Mean')"
            ]
          },
          "execution_count": 71,
          "metadata": {},
          "output_type": "execute_result"
        },
        {
          "data": {
            "image/png": "[encoded data removed]",
            "text/plain": [
              "<Figure size 1200x600 with 1 Axes>"
            ]
          },
          "metadata": {},
          "output_type": "display_data"
        }
      ],
      "source": [
        "plt.figure(figsize=(12, 6))\n",
        "sns.barplot(x=weather_effect.index, y=weather_effect[\"mean\"], palette=\"Set2\")\n",
        "plt.title(\"Pengaruh Cuaca terhadap Penyewaan\")\n",
        "plt.ylabel(\"Mean\")"
      ]
    },
    {
      "cell_type": "markdown",
      "metadata": {
        "id": "9y4VUsmcYNZ5"
      },
      "source": [
        "## Analisis Lanjutan (Opsional)"
      ]
    },
    {
      "cell_type": "markdown",
      "metadata": {},
      "source": [
        "## **Analisis Clustering tanpa menggunakan Model Machine Learning**"
      ]
    },
    {
      "cell_type": "markdown",
      "metadata": {},
      "source": [
        "#### **Pertanyaan Tambahan: Bagaimana Hubungan antara temperature dan total rentals dengan Clustering ?**\n"
      ]
    },
    {
      "cell_type": "code",
      "execution_count": 72,
      "metadata": {
        "id": "iWhnzsJGYUCO"
      },
      "outputs": [
        {
          "name": "stderr",
          "output_type": "stream",
          "text": [
            "C:\\Users\\itzir\\AppData\\Local\\Temp\\ipykernel_6284\\198008214.py:23: FutureWarning: \n",
            "\n",
            "Passing `palette` without assigning `hue` is deprecated and will be removed in v0.14.0. Assign the `x` variable to `hue` and set `legend=False` for the same effect.\n",
            "\n",
            "  sns.barplot(x=df[\"temp_category\"], y=df[\"total\"], estimator=sum, palette=\"coolwarm\", ax=axes[1])\n"
          ]
        },
        {
          "data": {
            "image/png": "[encoded data removed]",
            "text/plain": [
              "<Figure size 1400x600 with 2 Axes>"
            ]
          },
          "metadata": {},
          "output_type": "display_data"
        }
      ],
      "source": [
        "def manual_clustering(value):\n",
        "    if value < 1000:\n",
        "        return \"Low Usage\"\n",
        "    elif 1000 <= value <= 3000:\n",
        "        return \"Medium Usage\"\n",
        "    else:\n",
        "        return \"High Usage\"\n",
        "\n",
        "df[\"usage_cluster\"] = df[\"total\"].apply(manual_clustering)\n",
        "\n",
        "bins = [df[\"temp\"].min(), 10, 20, df[\"temp\"].max()]\n",
        "labels = [\"Cold\", \"Moderate\", \"Hot\"]\n",
        "df[\"temp_category\"] = pd.cut(df[\"temp\"], bins=bins, labels=labels, include_lowest=True)\n",
        "\n",
        "\n",
        "fig, axes = plt.subplots(1, 2, figsize=(14, 6))\n",
        "sns.scatterplot(x=df[\"temp\"], y=df[\"total\"], hue=df[\"usage_cluster\"], palette=\"viridis\", alpha=0.7, ax=axes[0])\n",
        "axes[0].set_title(\"Manual Clustering of Bike Rentals\")\n",
        "axes[0].set_xlabel(\"Temperature\")\n",
        "axes[0].set_ylabel(\"Total Rentals\")\n",
        "axes[0].legend(title=\"Usage Cluster\")\n",
        "\n",
        "sns.barplot(x=df[\"temp_category\"], y=df[\"total\"], estimator=sum, palette=\"coolwarm\", ax=axes[1])\n",
        "axes[1].set_title(\"Total Bike Rentals by Temperature Category\")\n",
        "axes[1].set_xlabel(\"Temperature Category\")\n",
        "axes[1].set_ylabel(\"Total Rentals\")\n",
        "\n",
        "plt.tight_layout()\n",
        "plt.show()"
      ]
    },
    {
      "cell_type": "markdown",
      "metadata": {},
      "source": [
        "Kriteria Clustering:\n",
        "- **Cold (Temp ≤ 10°C)**\n",
        "- **Moderate (10°C < Temp ≤ 20°C)**\n",
        "- **Hot (Temp > 20°C)**\n",
        "\n",
        "---\n",
        "Hasil Analisis Clustering:\n",
        "- **Low Usage (Total Rentals < 1000)**\\\n",
        "Terjadi pada suhu yang lebih rendah (umumnya di musim dingin atau saat cuaca tidak mendukung).\n",
        "- **Medium Usage (1000 ≤ Total Rentals ≤ 3000)**\\\n",
        "Terjadi pada suhu sedang (sekitar 10-20°C).\n",
        "Penggunaan sepeda cukup stabil, kemungkinan karena kondisi cuaca mendukung untuk aktivitas luar ruangan.\n",
        "- **High Usage (Total Rentals > 3000)**\\\n",
        "Terjadi pada suhu yang lebih hangat (di atas 20°C).\n",
        "Menunjukkan bahwa cuaca yang lebih hangat meningkatkan jumlah penyewaan sepeda secara signifikan."
      ]
    },
    {
      "cell_type": "markdown",
      "metadata": {
        "id": "_WeHlCeX8DC2"
      },
      "source": [
        "## Conclusion"
      ]
    },
    {
      "cell_type": "markdown",
      "metadata": {
        "id": "ZTcyR48Y8DC2"
      },
      "source": [
        "- Perkembangan Penyewaan Sepeda Pertahun\\\n",
        "Tahun 2011: `3,405` sepeda/hari (Total: 1,243,103)\\\n",
        "Tahun 2012: `5,599` sepeda/hari (Total: 2,049,576)\\\n",
        "**Penyewaan Sepeda dari tahun 2011 meningkat di tahun 2022**\n",
        "\n",
        "- Perbedaan User Casual dengan Registered\\\n",
        "Casual (tidak terdaftar): `848` sepeda/hari (Total: 620,017)\\\n",
        "Registered (terdaftar): `3,656` sepeda/hari (Total: 2,672,662)\\\n",
        "**Lebih banyak User terdaftar daripada tidak terdaftar menunjukkan pengguna lebih senang mendaftar dahulu sebelum memesan sepeda**\n",
        "\n",
        "- Musim apa yang mencapai puncak penyewaan sepeda ?\\\n",
        "Musim Gugur (Fall) tertinggi: `5,644` sepeda/hari (Total: 1,061,129)\\\n",
        "Musim Semi (Spring) terendah: `2,604` sepeda/hari.\\\n",
        "**Musim Gugur adalah musim penyewaan tertinggi**\n",
        "\n",
        "- Apakah Jumlah penyewaan pada Weekday dan Weekend memiliki perbedaan yang signifikan\\\n",
        "Hari dengan jumlah penyewaan sepeda tertinggi adalah Jumat (Friday) dengan total `487.790` penyewaan.\\\n",
        "Hari dengan jumlah penyewaan sepeda terendah adalah Minggu (Sabtu) dengan total `444.027` penyewaan.\\\n",
        "**Hari Jumah adalah Hari penyewaan tertinggi**\n",
        "\n",
        "- Apakah dengan adanya Liburan meningkatkan penyewaan sepeda?\\\n",
        "Hari biasa: `4,527` sepeda/hari.\\\n",
        "Hari libur: `3,735` sepeda/hari.\\\n",
        "**Penyewaan justru lebih rendah saat libur.**\n",
        "\n",
        "- Apakah cuaca mempengaruhi jumlah penyewaan sepeda?\\\n",
        "Cuaca cerah/berawan: `4,876` sepeda/hari.\\\n",
        "Cuaca berkabut: `4,035` sepeda/hari.\\\n",
        "Hujan atau salju ringan: `1,803` sepeda/hari.\\\n",
        "**Cuaca buruk mengurangi jumlah penyewaan secara signifikan.**\n",
        "\n",
        "- Bagaimana Hubungan antara temperature dan total rentals dengan Clustering ?\\\n",
        "Cuaca memiliki pengaruh besar terhadap jumlah penyewaan sepeda. Semakin hangat suhu, semakin banyak penyewaan sepeda.\\\n",
        "Kategori penyewaan sepeda menunjukkan pola yang jelas: suhu dingin mengurangi penyewaan, sementara suhu sedang dan hangat meningkatkan penyewaan.\\\n",
        "Musim kemungkinan memainkan peran penting, karena suhu yang lebih tinggi sering terjadi di musim panas, yang meningkatkan penggunaan sepeda."
      ]
    }
  ],
  "metadata": {
    "colab": {
      "provenance": []
    },
    "kernelspec": {
      "display_name": "main-ds",
      "language": "python",
      "name": "python3"
    },
    "language_info": {
      "codemirror_mode": {
        "name": "ipython",
        "version": 3
      },
      "file_extension": ".py",
      "mimetype": "text/x-python",
      "name": "python",
      "nbconvert_exporter": "python",
      "pygments_lexer": "ipython3",
      "version": "3.9.20"
    },
    "orig_nbformat": 4
  },
  "nbformat": 4,
  "nbformat_minor": 0
}
